{
  "nbformat": 4,
  "nbformat_minor": 0,
  "metadata": {
    "colab": {
      "provenance": [],
      "toc_visible": true
    },
    "kernelspec": {
      "name": "python3",
      "display_name": "Python 3"
    },
    "language_info": {
      "name": "python"
    },
    "widgets": {
      "application/vnd.jupyter.widget-state+json": {
        "23629b89be834412bc5f10f9310193a8": {
          "model_module": "@jupyter-widgets/controls",
          "model_name": "VBoxModel",
          "model_module_version": "1.5.0",
          "state": {
            "_dom_classes": [
              "widget-interact"
            ],
            "_model_module": "@jupyter-widgets/controls",
            "_model_module_version": "1.5.0",
            "_model_name": "VBoxModel",
            "_view_count": null,
            "_view_module": "@jupyter-widgets/controls",
            "_view_module_version": "1.5.0",
            "_view_name": "VBoxView",
            "box_style": "",
            "children": [
              "IPY_MODEL_6630eb690d994b95b024418aec16336a",
              "IPY_MODEL_cf9f87ff44714998b574236e3b87e59f"
            ],
            "layout": "IPY_MODEL_9244d06d08fd4b77a149ec8a762d094c"
          }
        },
        "6630eb690d994b95b024418aec16336a": {
          "model_module": "@jupyter-widgets/controls",
          "model_name": "IntSliderModel",
          "model_module_version": "1.5.0",
          "state": {
            "_dom_classes": [],
            "_model_module": "@jupyter-widgets/controls",
            "_model_module_version": "1.5.0",
            "_model_name": "IntSliderModel",
            "_view_count": null,
            "_view_module": "@jupyter-widgets/controls",
            "_view_module_version": "1.5.0",
            "_view_name": "IntSliderView",
            "continuous_update": true,
            "description": "val",
            "description_tooltip": null,
            "disabled": false,
            "layout": "IPY_MODEL_42e8a1a40b2446b283c907562b45d601",
            "max": 10,
            "min": 1,
            "orientation": "horizontal",
            "readout": true,
            "readout_format": "d",
            "step": 1,
            "style": "IPY_MODEL_6ed22bde996a44e283071d5d18d77c90",
            "value": 5
          }
        },
        "cf9f87ff44714998b574236e3b87e59f": {
          "model_module": "@jupyter-widgets/output",
          "model_name": "OutputModel",
          "model_module_version": "1.0.0",
          "state": {
            "_dom_classes": [],
            "_model_module": "@jupyter-widgets/output",
            "_model_module_version": "1.0.0",
            "_model_name": "OutputModel",
            "_view_count": null,
            "_view_module": "@jupyter-widgets/output",
            "_view_module_version": "1.0.0",
            "_view_name": "OutputView",
            "layout": "IPY_MODEL_d55cc48b6fb1444ea1691203131e3b96",
            "msg_id": "",
            "outputs": [
              {
                "output_type": "stream",
                "name": "stdout",
                "text": [
                  "Resultados actualizados: [('Electrónica', 3750), ('Hogar', 750), ('Ropa', 1000)]\n"
                ]
              }
            ]
          }
        },
        "9244d06d08fd4b77a149ec8a762d094c": {
          "model_module": "@jupyter-widgets/base",
          "model_name": "LayoutModel",
          "model_module_version": "1.2.0",
          "state": {
            "_model_module": "@jupyter-widgets/base",
            "_model_module_version": "1.2.0",
            "_model_name": "LayoutModel",
            "_view_count": null,
            "_view_module": "@jupyter-widgets/base",
            "_view_module_version": "1.2.0",
            "_view_name": "LayoutView",
            "align_content": null,
            "align_items": null,
            "align_self": null,
            "border": null,
            "bottom": null,
            "display": null,
            "flex": null,
            "flex_flow": null,
            "grid_area": null,
            "grid_auto_columns": null,
            "grid_auto_flow": null,
            "grid_auto_rows": null,
            "grid_column": null,
            "grid_gap": null,
            "grid_row": null,
            "grid_template_areas": null,
            "grid_template_columns": null,
            "grid_template_rows": null,
            "height": null,
            "justify_content": null,
            "justify_items": null,
            "left": null,
            "margin": null,
            "max_height": null,
            "max_width": null,
            "min_height": null,
            "min_width": null,
            "object_fit": null,
            "object_position": null,
            "order": null,
            "overflow": null,
            "overflow_x": null,
            "overflow_y": null,
            "padding": null,
            "right": null,
            "top": null,
            "visibility": null,
            "width": null
          }
        },
        "42e8a1a40b2446b283c907562b45d601": {
          "model_module": "@jupyter-widgets/base",
          "model_name": "LayoutModel",
          "model_module_version": "1.2.0",
          "state": {
            "_model_module": "@jupyter-widgets/base",
            "_model_module_version": "1.2.0",
            "_model_name": "LayoutModel",
            "_view_count": null,
            "_view_module": "@jupyter-widgets/base",
            "_view_module_version": "1.2.0",
            "_view_name": "LayoutView",
            "align_content": null,
            "align_items": null,
            "align_self": null,
            "border": null,
            "bottom": null,
            "display": null,
            "flex": null,
            "flex_flow": null,
            "grid_area": null,
            "grid_auto_columns": null,
            "grid_auto_flow": null,
            "grid_auto_rows": null,
            "grid_column": null,
            "grid_gap": null,
            "grid_row": null,
            "grid_template_areas": null,
            "grid_template_columns": null,
            "grid_template_rows": null,
            "height": null,
            "justify_content": null,
            "justify_items": null,
            "left": null,
            "margin": null,
            "max_height": null,
            "max_width": null,
            "min_height": null,
            "min_width": null,
            "object_fit": null,
            "object_position": null,
            "order": null,
            "overflow": null,
            "overflow_x": null,
            "overflow_y": null,
            "padding": null,
            "right": null,
            "top": null,
            "visibility": null,
            "width": null
          }
        },
        "6ed22bde996a44e283071d5d18d77c90": {
          "model_module": "@jupyter-widgets/controls",
          "model_name": "SliderStyleModel",
          "model_module_version": "1.5.0",
          "state": {
            "_model_module": "@jupyter-widgets/controls",
            "_model_module_version": "1.5.0",
            "_model_name": "SliderStyleModel",
            "_view_count": null,
            "_view_module": "@jupyter-widgets/base",
            "_view_module_version": "1.2.0",
            "_view_name": "StyleView",
            "description_width": "",
            "handle_color": null
          }
        },
        "d55cc48b6fb1444ea1691203131e3b96": {
          "model_module": "@jupyter-widgets/base",
          "model_name": "LayoutModel",
          "model_module_version": "1.2.0",
          "state": {
            "_model_module": "@jupyter-widgets/base",
            "_model_module_version": "1.2.0",
            "_model_name": "LayoutModel",
            "_view_count": null,
            "_view_module": "@jupyter-widgets/base",
            "_view_module_version": "1.2.0",
            "_view_name": "LayoutView",
            "align_content": null,
            "align_items": null,
            "align_self": null,
            "border": null,
            "bottom": null,
            "display": null,
            "flex": null,
            "flex_flow": null,
            "grid_area": null,
            "grid_auto_columns": null,
            "grid_auto_flow": null,
            "grid_auto_rows": null,
            "grid_column": null,
            "grid_gap": null,
            "grid_row": null,
            "grid_template_areas": null,
            "grid_template_columns": null,
            "grid_template_rows": null,
            "height": null,
            "justify_content": null,
            "justify_items": null,
            "left": null,
            "margin": null,
            "max_height": null,
            "max_width": null,
            "min_height": null,
            "min_width": null,
            "object_fit": null,
            "object_position": null,
            "order": null,
            "overflow": null,
            "overflow_x": null,
            "overflow_y": null,
            "padding": null,
            "right": null,
            "top": null,
            "visibility": null,
            "width": null
          }
        },
        "b766c9b9af494483959f26aa71c055b4": {
          "model_module": "@jupyter-widgets/controls",
          "model_name": "VBoxModel",
          "model_module_version": "1.5.0",
          "state": {
            "_dom_classes": [
              "widget-interact"
            ],
            "_model_module": "@jupyter-widgets/controls",
            "_model_module_version": "1.5.0",
            "_model_name": "VBoxModel",
            "_view_count": null,
            "_view_module": "@jupyter-widgets/controls",
            "_view_module_version": "1.5.0",
            "_view_name": "VBoxView",
            "box_style": "",
            "children": [
              "IPY_MODEL_6443f39d305c450689ff5f90d98899e7",
              "IPY_MODEL_de2d26c264644c4eb0d8b37bbca994a8"
            ],
            "layout": "IPY_MODEL_26bcfc47a9244ce5bb34675994b376c8"
          }
        },
        "6443f39d305c450689ff5f90d98899e7": {
          "model_module": "@jupyter-widgets/controls",
          "model_name": "DropdownModel",
          "model_module_version": "1.5.0",
          "state": {
            "_dom_classes": [],
            "_model_module": "@jupyter-widgets/controls",
            "_model_module_version": "1.5.0",
            "_model_name": "DropdownModel",
            "_options_labels": [
              "Electrónica",
              "Hogar",
              "Ropa"
            ],
            "_view_count": null,
            "_view_module": "@jupyter-widgets/controls",
            "_view_module_version": "1.5.0",
            "_view_name": "DropdownView",
            "description": "Categoría:",
            "description_tooltip": null,
            "disabled": false,
            "index": 1,
            "layout": "IPY_MODEL_d9626e3bd0784222a782c96c07acc941",
            "style": "IPY_MODEL_38f6df6fc6964b4c854b06e12631c13c"
          }
        },
        "de2d26c264644c4eb0d8b37bbca994a8": {
          "model_module": "@jupyter-widgets/output",
          "model_name": "OutputModel",
          "model_module_version": "1.0.0",
          "state": {
            "_dom_classes": [],
            "_model_module": "@jupyter-widgets/output",
            "_model_module_version": "1.0.0",
            "_model_name": "OutputModel",
            "_view_count": null,
            "_view_module": "@jupyter-widgets/output",
            "_view_module_version": "1.0.0",
            "_view_name": "OutputView",
            "layout": "IPY_MODEL_49eb374b984b4ee3ab7ba9e34582f4d3",
            "msg_id": "",
            "outputs": [
              {
                "output_type": "stream",
                "name": "stdout",
                "text": [
                  "Resultados para Hogar: [150]\n"
                ]
              }
            ]
          }
        },
        "26bcfc47a9244ce5bb34675994b376c8": {
          "model_module": "@jupyter-widgets/base",
          "model_name": "LayoutModel",
          "model_module_version": "1.2.0",
          "state": {
            "_model_module": "@jupyter-widgets/base",
            "_model_module_version": "1.2.0",
            "_model_name": "LayoutModel",
            "_view_count": null,
            "_view_module": "@jupyter-widgets/base",
            "_view_module_version": "1.2.0",
            "_view_name": "LayoutView",
            "align_content": null,
            "align_items": null,
            "align_self": null,
            "border": null,
            "bottom": null,
            "display": null,
            "flex": null,
            "flex_flow": null,
            "grid_area": null,
            "grid_auto_columns": null,
            "grid_auto_flow": null,
            "grid_auto_rows": null,
            "grid_column": null,
            "grid_gap": null,
            "grid_row": null,
            "grid_template_areas": null,
            "grid_template_columns": null,
            "grid_template_rows": null,
            "height": null,
            "justify_content": null,
            "justify_items": null,
            "left": null,
            "margin": null,
            "max_height": null,
            "max_width": null,
            "min_height": null,
            "min_width": null,
            "object_fit": null,
            "object_position": null,
            "order": null,
            "overflow": null,
            "overflow_x": null,
            "overflow_y": null,
            "padding": null,
            "right": null,
            "top": null,
            "visibility": null,
            "width": null
          }
        },
        "d9626e3bd0784222a782c96c07acc941": {
          "model_module": "@jupyter-widgets/base",
          "model_name": "LayoutModel",
          "model_module_version": "1.2.0",
          "state": {
            "_model_module": "@jupyter-widgets/base",
            "_model_module_version": "1.2.0",
            "_model_name": "LayoutModel",
            "_view_count": null,
            "_view_module": "@jupyter-widgets/base",
            "_view_module_version": "1.2.0",
            "_view_name": "LayoutView",
            "align_content": null,
            "align_items": null,
            "align_self": null,
            "border": null,
            "bottom": null,
            "display": null,
            "flex": null,
            "flex_flow": null,
            "grid_area": null,
            "grid_auto_columns": null,
            "grid_auto_flow": null,
            "grid_auto_rows": null,
            "grid_column": null,
            "grid_gap": null,
            "grid_row": null,
            "grid_template_areas": null,
            "grid_template_columns": null,
            "grid_template_rows": null,
            "height": null,
            "justify_content": null,
            "justify_items": null,
            "left": null,
            "margin": null,
            "max_height": null,
            "max_width": null,
            "min_height": null,
            "min_width": null,
            "object_fit": null,
            "object_position": null,
            "order": null,
            "overflow": null,
            "overflow_x": null,
            "overflow_y": null,
            "padding": null,
            "right": null,
            "top": null,
            "visibility": null,
            "width": null
          }
        },
        "38f6df6fc6964b4c854b06e12631c13c": {
          "model_module": "@jupyter-widgets/controls",
          "model_name": "DescriptionStyleModel",
          "model_module_version": "1.5.0",
          "state": {
            "_model_module": "@jupyter-widgets/controls",
            "_model_module_version": "1.5.0",
            "_model_name": "DescriptionStyleModel",
            "_view_count": null,
            "_view_module": "@jupyter-widgets/base",
            "_view_module_version": "1.2.0",
            "_view_name": "StyleView",
            "description_width": ""
          }
        },
        "49eb374b984b4ee3ab7ba9e34582f4d3": {
          "model_module": "@jupyter-widgets/base",
          "model_name": "LayoutModel",
          "model_module_version": "1.2.0",
          "state": {
            "_model_module": "@jupyter-widgets/base",
            "_model_module_version": "1.2.0",
            "_model_name": "LayoutModel",
            "_view_count": null,
            "_view_module": "@jupyter-widgets/base",
            "_view_module_version": "1.2.0",
            "_view_name": "LayoutView",
            "align_content": null,
            "align_items": null,
            "align_self": null,
            "border": null,
            "bottom": null,
            "display": null,
            "flex": null,
            "flex_flow": null,
            "grid_area": null,
            "grid_auto_columns": null,
            "grid_auto_flow": null,
            "grid_auto_rows": null,
            "grid_column": null,
            "grid_gap": null,
            "grid_row": null,
            "grid_template_areas": null,
            "grid_template_columns": null,
            "grid_template_rows": null,
            "height": null,
            "justify_content": null,
            "justify_items": null,
            "left": null,
            "margin": null,
            "max_height": null,
            "max_width": null,
            "min_height": null,
            "min_width": null,
            "object_fit": null,
            "object_position": null,
            "order": null,
            "overflow": null,
            "overflow_x": null,
            "overflow_y": null,
            "padding": null,
            "right": null,
            "top": null,
            "visibility": null,
            "width": null
          }
        },
        "28d0388edd914417a542436d8e37cd4f": {
          "model_module": "@jupyter-widgets/controls",
          "model_name": "VBoxModel",
          "model_module_version": "1.5.0",
          "state": {
            "_dom_classes": [
              "widget-interact"
            ],
            "_model_module": "@jupyter-widgets/controls",
            "_model_module_version": "1.5.0",
            "_model_name": "VBoxModel",
            "_view_count": null,
            "_view_module": "@jupyter-widgets/controls",
            "_view_module_version": "1.5.0",
            "_view_name": "VBoxView",
            "box_style": "",
            "children": [
              "IPY_MODEL_7617737159a244b88da261a70516cfaa",
              "IPY_MODEL_0c0082ab95884201a2d5d904d4aba1f5"
            ],
            "layout": "IPY_MODEL_0a08dc2cfded4ba2b42810f4ea2414db"
          }
        },
        "7617737159a244b88da261a70516cfaa": {
          "model_module": "@jupyter-widgets/controls",
          "model_name": "CheckboxModel",
          "model_module_version": "1.5.0",
          "state": {
            "_dom_classes": [],
            "_model_module": "@jupyter-widgets/controls",
            "_model_module_version": "1.5.0",
            "_model_name": "CheckboxModel",
            "_view_count": null,
            "_view_module": "@jupyter-widgets/controls",
            "_view_module_version": "1.5.0",
            "_view_name": "CheckboxView",
            "description": "Mostrar totales mayores a 200",
            "description_tooltip": null,
            "disabled": false,
            "indent": true,
            "layout": "IPY_MODEL_8e10490bb01f41f19a4d6c9d20baafa1",
            "style": "IPY_MODEL_0570f3c1c1f04e8b9d92b3df63c9f601",
            "value": true
          }
        },
        "0c0082ab95884201a2d5d904d4aba1f5": {
          "model_module": "@jupyter-widgets/output",
          "model_name": "OutputModel",
          "model_module_version": "1.0.0",
          "state": {
            "_dom_classes": [],
            "_model_module": "@jupyter-widgets/output",
            "_model_module_version": "1.0.0",
            "_model_name": "OutputModel",
            "_view_count": null,
            "_view_module": "@jupyter-widgets/output",
            "_view_module_version": "1.0.0",
            "_view_name": "OutputView",
            "layout": "IPY_MODEL_46ba07cec4cd47c7a5a041f46e1b9899",
            "msg_id": "",
            "outputs": [
              {
                "output_type": "stream",
                "name": "stdout",
                "text": [
                  "Resultados filtrados: [('Electrónica', 750)]\n"
                ]
              }
            ]
          }
        },
        "0a08dc2cfded4ba2b42810f4ea2414db": {
          "model_module": "@jupyter-widgets/base",
          "model_name": "LayoutModel",
          "model_module_version": "1.2.0",
          "state": {
            "_model_module": "@jupyter-widgets/base",
            "_model_module_version": "1.2.0",
            "_model_name": "LayoutModel",
            "_view_count": null,
            "_view_module": "@jupyter-widgets/base",
            "_view_module_version": "1.2.0",
            "_view_name": "LayoutView",
            "align_content": null,
            "align_items": null,
            "align_self": null,
            "border": null,
            "bottom": null,
            "display": null,
            "flex": null,
            "flex_flow": null,
            "grid_area": null,
            "grid_auto_columns": null,
            "grid_auto_flow": null,
            "grid_auto_rows": null,
            "grid_column": null,
            "grid_gap": null,
            "grid_row": null,
            "grid_template_areas": null,
            "grid_template_columns": null,
            "grid_template_rows": null,
            "height": null,
            "justify_content": null,
            "justify_items": null,
            "left": null,
            "margin": null,
            "max_height": null,
            "max_width": null,
            "min_height": null,
            "min_width": null,
            "object_fit": null,
            "object_position": null,
            "order": null,
            "overflow": null,
            "overflow_x": null,
            "overflow_y": null,
            "padding": null,
            "right": null,
            "top": null,
            "visibility": null,
            "width": null
          }
        },
        "8e10490bb01f41f19a4d6c9d20baafa1": {
          "model_module": "@jupyter-widgets/base",
          "model_name": "LayoutModel",
          "model_module_version": "1.2.0",
          "state": {
            "_model_module": "@jupyter-widgets/base",
            "_model_module_version": "1.2.0",
            "_model_name": "LayoutModel",
            "_view_count": null,
            "_view_module": "@jupyter-widgets/base",
            "_view_module_version": "1.2.0",
            "_view_name": "LayoutView",
            "align_content": null,
            "align_items": null,
            "align_self": null,
            "border": null,
            "bottom": null,
            "display": null,
            "flex": null,
            "flex_flow": null,
            "grid_area": null,
            "grid_auto_columns": null,
            "grid_auto_flow": null,
            "grid_auto_rows": null,
            "grid_column": null,
            "grid_gap": null,
            "grid_row": null,
            "grid_template_areas": null,
            "grid_template_columns": null,
            "grid_template_rows": null,
            "height": null,
            "justify_content": null,
            "justify_items": null,
            "left": null,
            "margin": null,
            "max_height": null,
            "max_width": null,
            "min_height": null,
            "min_width": null,
            "object_fit": null,
            "object_position": null,
            "order": null,
            "overflow": null,
            "overflow_x": null,
            "overflow_y": null,
            "padding": null,
            "right": null,
            "top": null,
            "visibility": null,
            "width": null
          }
        },
        "0570f3c1c1f04e8b9d92b3df63c9f601": {
          "model_module": "@jupyter-widgets/controls",
          "model_name": "DescriptionStyleModel",
          "model_module_version": "1.5.0",
          "state": {
            "_model_module": "@jupyter-widgets/controls",
            "_model_module_version": "1.5.0",
            "_model_name": "DescriptionStyleModel",
            "_view_count": null,
            "_view_module": "@jupyter-widgets/base",
            "_view_module_version": "1.2.0",
            "_view_name": "StyleView",
            "description_width": ""
          }
        },
        "46ba07cec4cd47c7a5a041f46e1b9899": {
          "model_module": "@jupyter-widgets/base",
          "model_name": "LayoutModel",
          "model_module_version": "1.2.0",
          "state": {
            "_model_module": "@jupyter-widgets/base",
            "_model_module_version": "1.2.0",
            "_model_name": "LayoutModel",
            "_view_count": null,
            "_view_module": "@jupyter-widgets/base",
            "_view_module_version": "1.2.0",
            "_view_name": "LayoutView",
            "align_content": null,
            "align_items": null,
            "align_self": null,
            "border": null,
            "bottom": null,
            "display": null,
            "flex": null,
            "flex_flow": null,
            "grid_area": null,
            "grid_auto_columns": null,
            "grid_auto_flow": null,
            "grid_auto_rows": null,
            "grid_column": null,
            "grid_gap": null,
            "grid_row": null,
            "grid_template_areas": null,
            "grid_template_columns": null,
            "grid_template_rows": null,
            "height": null,
            "justify_content": null,
            "justify_items": null,
            "left": null,
            "margin": null,
            "max_height": null,
            "max_width": null,
            "min_height": null,
            "min_width": null,
            "object_fit": null,
            "object_position": null,
            "order": null,
            "overflow": null,
            "overflow_x": null,
            "overflow_y": null,
            "padding": null,
            "right": null,
            "top": null,
            "visibility": null,
            "width": null
          }
        },
        "f91c5769a36745d9b086b6b4b496ba05": {
          "model_module": "@jupyter-widgets/controls",
          "model_name": "VBoxModel",
          "model_module_version": "1.5.0",
          "state": {
            "_dom_classes": [
              "widget-interact"
            ],
            "_model_module": "@jupyter-widgets/controls",
            "_model_module_version": "1.5.0",
            "_model_name": "VBoxModel",
            "_view_count": null,
            "_view_module": "@jupyter-widgets/controls",
            "_view_module_version": "1.5.0",
            "_view_name": "VBoxView",
            "box_style": "",
            "children": [
              "IPY_MODEL_3ed25e146f3548adbe48136dfc80c33a",
              "IPY_MODEL_c1ba00e8042a4d8d8ca5191369024bba"
            ],
            "layout": "IPY_MODEL_627d4a3ad55843f38472f55d31355f13"
          }
        },
        "3ed25e146f3548adbe48136dfc80c33a": {
          "model_module": "@jupyter-widgets/controls",
          "model_name": "TextModel",
          "model_module_version": "1.5.0",
          "state": {
            "_dom_classes": [],
            "_model_module": "@jupyter-widgets/controls",
            "_model_module_version": "1.5.0",
            "_model_name": "TextModel",
            "_view_count": null,
            "_view_module": "@jupyter-widgets/controls",
            "_view_module_version": "1.5.0",
            "_view_name": "TextView",
            "continuous_update": true,
            "description": "Multiplicador:",
            "description_tooltip": null,
            "disabled": false,
            "layout": "IPY_MODEL_a87a30f748d045a68fc54948eb2356c1",
            "placeholder": "​",
            "style": "IPY_MODEL_f386c48c646649daa896d770ec969335",
            "value": "2"
          }
        },
        "c1ba00e8042a4d8d8ca5191369024bba": {
          "model_module": "@jupyter-widgets/output",
          "model_name": "OutputModel",
          "model_module_version": "1.0.0",
          "state": {
            "_dom_classes": [],
            "_model_module": "@jupyter-widgets/output",
            "_model_module_version": "1.0.0",
            "_model_name": "OutputModel",
            "_view_count": null,
            "_view_module": "@jupyter-widgets/output",
            "_view_module_version": "1.0.0",
            "_view_name": "OutputView",
            "layout": "IPY_MODEL_fa743c81852346478097b42ce147d4b9",
            "msg_id": "",
            "outputs": [
              {
                "output_type": "stream",
                "name": "stdout",
                "text": [
                  "Resultados personalizados: [('Electrónica', 1500), ('Hogar', 300), ('Ropa', 400)]\n"
                ]
              }
            ]
          }
        },
        "627d4a3ad55843f38472f55d31355f13": {
          "model_module": "@jupyter-widgets/base",
          "model_name": "LayoutModel",
          "model_module_version": "1.2.0",
          "state": {
            "_model_module": "@jupyter-widgets/base",
            "_model_module_version": "1.2.0",
            "_model_name": "LayoutModel",
            "_view_count": null,
            "_view_module": "@jupyter-widgets/base",
            "_view_module_version": "1.2.0",
            "_view_name": "LayoutView",
            "align_content": null,
            "align_items": null,
            "align_self": null,
            "border": null,
            "bottom": null,
            "display": null,
            "flex": null,
            "flex_flow": null,
            "grid_area": null,
            "grid_auto_columns": null,
            "grid_auto_flow": null,
            "grid_auto_rows": null,
            "grid_column": null,
            "grid_gap": null,
            "grid_row": null,
            "grid_template_areas": null,
            "grid_template_columns": null,
            "grid_template_rows": null,
            "height": null,
            "justify_content": null,
            "justify_items": null,
            "left": null,
            "margin": null,
            "max_height": null,
            "max_width": null,
            "min_height": null,
            "min_width": null,
            "object_fit": null,
            "object_position": null,
            "order": null,
            "overflow": null,
            "overflow_x": null,
            "overflow_y": null,
            "padding": null,
            "right": null,
            "top": null,
            "visibility": null,
            "width": null
          }
        },
        "a87a30f748d045a68fc54948eb2356c1": {
          "model_module": "@jupyter-widgets/base",
          "model_name": "LayoutModel",
          "model_module_version": "1.2.0",
          "state": {
            "_model_module": "@jupyter-widgets/base",
            "_model_module_version": "1.2.0",
            "_model_name": "LayoutModel",
            "_view_count": null,
            "_view_module": "@jupyter-widgets/base",
            "_view_module_version": "1.2.0",
            "_view_name": "LayoutView",
            "align_content": null,
            "align_items": null,
            "align_self": null,
            "border": null,
            "bottom": null,
            "display": null,
            "flex": null,
            "flex_flow": null,
            "grid_area": null,
            "grid_auto_columns": null,
            "grid_auto_flow": null,
            "grid_auto_rows": null,
            "grid_column": null,
            "grid_gap": null,
            "grid_row": null,
            "grid_template_areas": null,
            "grid_template_columns": null,
            "grid_template_rows": null,
            "height": null,
            "justify_content": null,
            "justify_items": null,
            "left": null,
            "margin": null,
            "max_height": null,
            "max_width": null,
            "min_height": null,
            "min_width": null,
            "object_fit": null,
            "object_position": null,
            "order": null,
            "overflow": null,
            "overflow_x": null,
            "overflow_y": null,
            "padding": null,
            "right": null,
            "top": null,
            "visibility": null,
            "width": null
          }
        },
        "f386c48c646649daa896d770ec969335": {
          "model_module": "@jupyter-widgets/controls",
          "model_name": "DescriptionStyleModel",
          "model_module_version": "1.5.0",
          "state": {
            "_model_module": "@jupyter-widgets/controls",
            "_model_module_version": "1.5.0",
            "_model_name": "DescriptionStyleModel",
            "_view_count": null,
            "_view_module": "@jupyter-widgets/base",
            "_view_module_version": "1.2.0",
            "_view_name": "StyleView",
            "description_width": ""
          }
        },
        "fa743c81852346478097b42ce147d4b9": {
          "model_module": "@jupyter-widgets/base",
          "model_name": "LayoutModel",
          "model_module_version": "1.2.0",
          "state": {
            "_model_module": "@jupyter-widgets/base",
            "_model_module_version": "1.2.0",
            "_model_name": "LayoutModel",
            "_view_count": null,
            "_view_module": "@jupyter-widgets/base",
            "_view_module_version": "1.2.0",
            "_view_name": "LayoutView",
            "align_content": null,
            "align_items": null,
            "align_self": null,
            "border": null,
            "bottom": null,
            "display": null,
            "flex": null,
            "flex_flow": null,
            "grid_area": null,
            "grid_auto_columns": null,
            "grid_auto_flow": null,
            "grid_auto_rows": null,
            "grid_column": null,
            "grid_gap": null,
            "grid_row": null,
            "grid_template_areas": null,
            "grid_template_columns": null,
            "grid_template_rows": null,
            "height": null,
            "justify_content": null,
            "justify_items": null,
            "left": null,
            "margin": null,
            "max_height": null,
            "max_width": null,
            "min_height": null,
            "min_width": null,
            "object_fit": null,
            "object_position": null,
            "order": null,
            "overflow": null,
            "overflow_x": null,
            "overflow_y": null,
            "padding": null,
            "right": null,
            "top": null,
            "visibility": null,
            "width": null
          }
        },
        "638eb60ef0c7410e81dcb3542d6a38d7": {
          "model_module": "@jupyter-widgets/controls",
          "model_name": "HBoxModel",
          "model_module_version": "1.5.0",
          "state": {
            "_dom_classes": [],
            "_model_module": "@jupyter-widgets/controls",
            "_model_module_version": "1.5.0",
            "_model_name": "HBoxModel",
            "_view_count": null,
            "_view_module": "@jupyter-widgets/controls",
            "_view_module_version": "1.5.0",
            "_view_name": "HBoxView",
            "box_style": "",
            "children": [
              "IPY_MODEL_1e3207177ff7480f85d7825f6231ce89",
              "IPY_MODEL_87115d1e5bf34d9ab905bf2b3d743ab6",
              "IPY_MODEL_0e519874f4024cfe8dc40e893173bbf3"
            ],
            "layout": "IPY_MODEL_8e822af967c34201a014b750c7807b8d"
          }
        },
        "1e3207177ff7480f85d7825f6231ce89": {
          "model_module": "@jupyter-widgets/controls",
          "model_name": "TextModel",
          "model_module_version": "1.5.0",
          "state": {
            "_dom_classes": [],
            "_model_module": "@jupyter-widgets/controls",
            "_model_module_version": "1.5.0",
            "_model_name": "TextModel",
            "_view_count": null,
            "_view_module": "@jupyter-widgets/controls",
            "_view_module_version": "1.5.0",
            "_view_name": "TextView",
            "continuous_update": true,
            "description": "Categoría:",
            "description_tooltip": null,
            "disabled": false,
            "layout": "IPY_MODEL_5f6e768b81784538a69a7210fac5d10f",
            "placeholder": "Nueva Categoría",
            "style": "IPY_MODEL_3f0e1229eeb647019b5b3f02613a7058",
            "value": "deporte"
          }
        },
        "87115d1e5bf34d9ab905bf2b3d743ab6": {
          "model_module": "@jupyter-widgets/controls",
          "model_name": "IntSliderModel",
          "model_module_version": "1.5.0",
          "state": {
            "_dom_classes": [],
            "_model_module": "@jupyter-widgets/controls",
            "_model_module_version": "1.5.0",
            "_model_name": "IntSliderModel",
            "_view_count": null,
            "_view_module": "@jupyter-widgets/controls",
            "_view_module_version": "1.5.0",
            "_view_name": "IntSliderView",
            "continuous_update": true,
            "description": "Valor Inicial:",
            "description_tooltip": null,
            "disabled": false,
            "layout": "IPY_MODEL_47145317c6734a8581401b3f81702a4c",
            "max": 500,
            "min": 1,
            "orientation": "horizontal",
            "readout": true,
            "readout_format": "d",
            "step": 1,
            "style": "IPY_MODEL_5f241569d4fd49c3886efb5bf7efc2c2",
            "value": 110
          }
        },
        "0e519874f4024cfe8dc40e893173bbf3": {
          "model_module": "@jupyter-widgets/controls",
          "model_name": "ButtonModel",
          "model_module_version": "1.5.0",
          "state": {
            "_dom_classes": [],
            "_model_module": "@jupyter-widgets/controls",
            "_model_module_version": "1.5.0",
            "_model_name": "ButtonModel",
            "_view_count": null,
            "_view_module": "@jupyter-widgets/controls",
            "_view_module_version": "1.5.0",
            "_view_name": "ButtonView",
            "button_style": "success",
            "description": "Añadir Categoría",
            "disabled": false,
            "icon": "",
            "layout": "IPY_MODEL_5356957dbfee454b8604fdf8cc77614d",
            "style": "IPY_MODEL_96583dfadf18419aacf8ea488d515c68",
            "tooltip": ""
          }
        },
        "8e822af967c34201a014b750c7807b8d": {
          "model_module": "@jupyter-widgets/base",
          "model_name": "LayoutModel",
          "model_module_version": "1.2.0",
          "state": {
            "_model_module": "@jupyter-widgets/base",
            "_model_module_version": "1.2.0",
            "_model_name": "LayoutModel",
            "_view_count": null,
            "_view_module": "@jupyter-widgets/base",
            "_view_module_version": "1.2.0",
            "_view_name": "LayoutView",
            "align_content": null,
            "align_items": null,
            "align_self": null,
            "border": null,
            "bottom": null,
            "display": null,
            "flex": null,
            "flex_flow": null,
            "grid_area": null,
            "grid_auto_columns": null,
            "grid_auto_flow": null,
            "grid_auto_rows": null,
            "grid_column": null,
            "grid_gap": null,
            "grid_row": null,
            "grid_template_areas": null,
            "grid_template_columns": null,
            "grid_template_rows": null,
            "height": null,
            "justify_content": null,
            "justify_items": null,
            "left": null,
            "margin": null,
            "max_height": null,
            "max_width": null,
            "min_height": null,
            "min_width": null,
            "object_fit": null,
            "object_position": null,
            "order": null,
            "overflow": null,
            "overflow_x": null,
            "overflow_y": null,
            "padding": null,
            "right": null,
            "top": null,
            "visibility": null,
            "width": null
          }
        },
        "5f6e768b81784538a69a7210fac5d10f": {
          "model_module": "@jupyter-widgets/base",
          "model_name": "LayoutModel",
          "model_module_version": "1.2.0",
          "state": {
            "_model_module": "@jupyter-widgets/base",
            "_model_module_version": "1.2.0",
            "_model_name": "LayoutModel",
            "_view_count": null,
            "_view_module": "@jupyter-widgets/base",
            "_view_module_version": "1.2.0",
            "_view_name": "LayoutView",
            "align_content": null,
            "align_items": null,
            "align_self": null,
            "border": null,
            "bottom": null,
            "display": null,
            "flex": null,
            "flex_flow": null,
            "grid_area": null,
            "grid_auto_columns": null,
            "grid_auto_flow": null,
            "grid_auto_rows": null,
            "grid_column": null,
            "grid_gap": null,
            "grid_row": null,
            "grid_template_areas": null,
            "grid_template_columns": null,
            "grid_template_rows": null,
            "height": null,
            "justify_content": null,
            "justify_items": null,
            "left": null,
            "margin": null,
            "max_height": null,
            "max_width": null,
            "min_height": null,
            "min_width": null,
            "object_fit": null,
            "object_position": null,
            "order": null,
            "overflow": null,
            "overflow_x": null,
            "overflow_y": null,
            "padding": null,
            "right": null,
            "top": null,
            "visibility": null,
            "width": null
          }
        },
        "3f0e1229eeb647019b5b3f02613a7058": {
          "model_module": "@jupyter-widgets/controls",
          "model_name": "DescriptionStyleModel",
          "model_module_version": "1.5.0",
          "state": {
            "_model_module": "@jupyter-widgets/controls",
            "_model_module_version": "1.5.0",
            "_model_name": "DescriptionStyleModel",
            "_view_count": null,
            "_view_module": "@jupyter-widgets/base",
            "_view_module_version": "1.2.0",
            "_view_name": "StyleView",
            "description_width": ""
          }
        },
        "47145317c6734a8581401b3f81702a4c": {
          "model_module": "@jupyter-widgets/base",
          "model_name": "LayoutModel",
          "model_module_version": "1.2.0",
          "state": {
            "_model_module": "@jupyter-widgets/base",
            "_model_module_version": "1.2.0",
            "_model_name": "LayoutModel",
            "_view_count": null,
            "_view_module": "@jupyter-widgets/base",
            "_view_module_version": "1.2.0",
            "_view_name": "LayoutView",
            "align_content": null,
            "align_items": null,
            "align_self": null,
            "border": null,
            "bottom": null,
            "display": null,
            "flex": null,
            "flex_flow": null,
            "grid_area": null,
            "grid_auto_columns": null,
            "grid_auto_flow": null,
            "grid_auto_rows": null,
            "grid_column": null,
            "grid_gap": null,
            "grid_row": null,
            "grid_template_areas": null,
            "grid_template_columns": null,
            "grid_template_rows": null,
            "height": null,
            "justify_content": null,
            "justify_items": null,
            "left": null,
            "margin": null,
            "max_height": null,
            "max_width": null,
            "min_height": null,
            "min_width": null,
            "object_fit": null,
            "object_position": null,
            "order": null,
            "overflow": null,
            "overflow_x": null,
            "overflow_y": null,
            "padding": null,
            "right": null,
            "top": null,
            "visibility": null,
            "width": null
          }
        },
        "5f241569d4fd49c3886efb5bf7efc2c2": {
          "model_module": "@jupyter-widgets/controls",
          "model_name": "SliderStyleModel",
          "model_module_version": "1.5.0",
          "state": {
            "_model_module": "@jupyter-widgets/controls",
            "_model_module_version": "1.5.0",
            "_model_name": "SliderStyleModel",
            "_view_count": null,
            "_view_module": "@jupyter-widgets/base",
            "_view_module_version": "1.2.0",
            "_view_name": "StyleView",
            "description_width": "",
            "handle_color": null
          }
        },
        "5356957dbfee454b8604fdf8cc77614d": {
          "model_module": "@jupyter-widgets/base",
          "model_name": "LayoutModel",
          "model_module_version": "1.2.0",
          "state": {
            "_model_module": "@jupyter-widgets/base",
            "_model_module_version": "1.2.0",
            "_model_name": "LayoutModel",
            "_view_count": null,
            "_view_module": "@jupyter-widgets/base",
            "_view_module_version": "1.2.0",
            "_view_name": "LayoutView",
            "align_content": null,
            "align_items": null,
            "align_self": null,
            "border": null,
            "bottom": null,
            "display": null,
            "flex": null,
            "flex_flow": null,
            "grid_area": null,
            "grid_auto_columns": null,
            "grid_auto_flow": null,
            "grid_auto_rows": null,
            "grid_column": null,
            "grid_gap": null,
            "grid_row": null,
            "grid_template_areas": null,
            "grid_template_columns": null,
            "grid_template_rows": null,
            "height": null,
            "justify_content": null,
            "justify_items": null,
            "left": null,
            "margin": null,
            "max_height": null,
            "max_width": null,
            "min_height": null,
            "min_width": null,
            "object_fit": null,
            "object_position": null,
            "order": null,
            "overflow": null,
            "overflow_x": null,
            "overflow_y": null,
            "padding": null,
            "right": null,
            "top": null,
            "visibility": null,
            "width": null
          }
        },
        "96583dfadf18419aacf8ea488d515c68": {
          "model_module": "@jupyter-widgets/controls",
          "model_name": "ButtonStyleModel",
          "model_module_version": "1.5.0",
          "state": {
            "_model_module": "@jupyter-widgets/controls",
            "_model_module_version": "1.5.0",
            "_model_name": "ButtonStyleModel",
            "_view_count": null,
            "_view_module": "@jupyter-widgets/base",
            "_view_module_version": "1.2.0",
            "_view_name": "StyleView",
            "button_color": null,
            "font_weight": ""
          }
        },
        "f0a2ceca4b8f48b89a9b035a7698121f": {
          "model_module": "@jupyter-widgets/output",
          "model_name": "OutputModel",
          "model_module_version": "1.0.0",
          "state": {
            "_dom_classes": [],
            "_model_module": "@jupyter-widgets/output",
            "_model_module_version": "1.0.0",
            "_model_name": "OutputModel",
            "_view_count": null,
            "_view_module": "@jupyter-widgets/output",
            "_view_module_version": "1.0.0",
            "_view_name": "OutputView",
            "layout": "IPY_MODEL_20ba0ca43c1c4345bc21aec05805771a",
            "msg_id": "",
            "outputs": [
              {
                "output_type": "display_data",
                "data": {
                  "text/plain": "<Figure size 640x480 with 1 Axes>",
                  "image/png": "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\n"
                },
                "metadata": {}
              }
            ]
          }
        },
        "20ba0ca43c1c4345bc21aec05805771a": {
          "model_module": "@jupyter-widgets/base",
          "model_name": "LayoutModel",
          "model_module_version": "1.2.0",
          "state": {
            "_model_module": "@jupyter-widgets/base",
            "_model_module_version": "1.2.0",
            "_model_name": "LayoutModel",
            "_view_count": null,
            "_view_module": "@jupyter-widgets/base",
            "_view_module_version": "1.2.0",
            "_view_name": "LayoutView",
            "align_content": null,
            "align_items": null,
            "align_self": null,
            "border": null,
            "bottom": null,
            "display": null,
            "flex": null,
            "flex_flow": null,
            "grid_area": null,
            "grid_auto_columns": null,
            "grid_auto_flow": null,
            "grid_auto_rows": null,
            "grid_column": null,
            "grid_gap": null,
            "grid_row": null,
            "grid_template_areas": null,
            "grid_template_columns": null,
            "grid_template_rows": null,
            "height": null,
            "justify_content": null,
            "justify_items": null,
            "left": null,
            "margin": null,
            "max_height": null,
            "max_width": null,
            "min_height": null,
            "min_width": null,
            "object_fit": null,
            "object_position": null,
            "order": null,
            "overflow": null,
            "overflow_x": null,
            "overflow_y": null,
            "padding": null,
            "right": null,
            "top": null,
            "visibility": null,
            "width": null
          }
        },
        "e0e76d63496342ffbee75bde8ccfbaac": {
          "model_module": "@jupyter-widgets/controls",
          "model_name": "VBoxModel",
          "model_module_version": "1.5.0",
          "state": {
            "_dom_classes": [
              "widget-interact"
            ],
            "_model_module": "@jupyter-widgets/controls",
            "_model_module_version": "1.5.0",
            "_model_name": "VBoxModel",
            "_view_count": null,
            "_view_module": "@jupyter-widgets/controls",
            "_view_module_version": "1.5.0",
            "_view_name": "VBoxView",
            "box_style": "",
            "children": [
              "IPY_MODEL_4252f464b1094c2eb55ade250c5a0f8d",
              "IPY_MODEL_c466007c525f44b5bd193b5111970524"
            ],
            "layout": "IPY_MODEL_06cf0e05fafb43fbb012ef702a5aecd6"
          }
        },
        "4252f464b1094c2eb55ade250c5a0f8d": {
          "model_module": "@jupyter-widgets/controls",
          "model_name": "TextModel",
          "model_module_version": "1.5.0",
          "state": {
            "_dom_classes": [],
            "_model_module": "@jupyter-widgets/controls",
            "_model_module_version": "1.5.0",
            "_model_name": "TextModel",
            "_view_count": null,
            "_view_module": "@jupyter-widgets/controls",
            "_view_module_version": "1.5.0",
            "_view_name": "TextView",
            "continuous_update": true,
            "description": "Multiplicador:",
            "description_tooltip": null,
            "disabled": false,
            "layout": "IPY_MODEL_fa77d98e3cab4cb092db8e490473d891",
            "placeholder": "​",
            "style": "IPY_MODEL_48d19a3f0088433a8f6d144206faae72",
            "value": "3"
          }
        },
        "c466007c525f44b5bd193b5111970524": {
          "model_module": "@jupyter-widgets/output",
          "model_name": "OutputModel",
          "model_module_version": "1.0.0",
          "state": {
            "_dom_classes": [],
            "_model_module": "@jupyter-widgets/output",
            "_model_module_version": "1.0.0",
            "_model_name": "OutputModel",
            "_view_count": null,
            "_view_module": "@jupyter-widgets/output",
            "_view_module_version": "1.0.0",
            "_view_name": "OutputView",
            "layout": "IPY_MODEL_ee56ecc77c044ba9974be78e7aad165a",
            "msg_id": "",
            "outputs": [
              {
                "output_type": "stream",
                "name": "stdout",
                "text": [
                  "+-----------+-----+-----------------+\n",
                  "|  categoria|valor|valor_actualizado|\n",
                  "+-----------+-----+-----------------+\n",
                  "|Electrónica|  750|             2250|\n",
                  "|      Hogar|  150|              450|\n",
                  "|       Ropa|  200|              600|\n",
                  "+-----------+-----+-----------------+\n",
                  "\n"
                ]
              }
            ]
          }
        },
        "06cf0e05fafb43fbb012ef702a5aecd6": {
          "model_module": "@jupyter-widgets/base",
          "model_name": "LayoutModel",
          "model_module_version": "1.2.0",
          "state": {
            "_model_module": "@jupyter-widgets/base",
            "_model_module_version": "1.2.0",
            "_model_name": "LayoutModel",
            "_view_count": null,
            "_view_module": "@jupyter-widgets/base",
            "_view_module_version": "1.2.0",
            "_view_name": "LayoutView",
            "align_content": null,
            "align_items": null,
            "align_self": null,
            "border": null,
            "bottom": null,
            "display": null,
            "flex": null,
            "flex_flow": null,
            "grid_area": null,
            "grid_auto_columns": null,
            "grid_auto_flow": null,
            "grid_auto_rows": null,
            "grid_column": null,
            "grid_gap": null,
            "grid_row": null,
            "grid_template_areas": null,
            "grid_template_columns": null,
            "grid_template_rows": null,
            "height": null,
            "justify_content": null,
            "justify_items": null,
            "left": null,
            "margin": null,
            "max_height": null,
            "max_width": null,
            "min_height": null,
            "min_width": null,
            "object_fit": null,
            "object_position": null,
            "order": null,
            "overflow": null,
            "overflow_x": null,
            "overflow_y": null,
            "padding": null,
            "right": null,
            "top": null,
            "visibility": null,
            "width": null
          }
        },
        "fa77d98e3cab4cb092db8e490473d891": {
          "model_module": "@jupyter-widgets/base",
          "model_name": "LayoutModel",
          "model_module_version": "1.2.0",
          "state": {
            "_model_module": "@jupyter-widgets/base",
            "_model_module_version": "1.2.0",
            "_model_name": "LayoutModel",
            "_view_count": null,
            "_view_module": "@jupyter-widgets/base",
            "_view_module_version": "1.2.0",
            "_view_name": "LayoutView",
            "align_content": null,
            "align_items": null,
            "align_self": null,
            "border": null,
            "bottom": null,
            "display": null,
            "flex": null,
            "flex_flow": null,
            "grid_area": null,
            "grid_auto_columns": null,
            "grid_auto_flow": null,
            "grid_auto_rows": null,
            "grid_column": null,
            "grid_gap": null,
            "grid_row": null,
            "grid_template_areas": null,
            "grid_template_columns": null,
            "grid_template_rows": null,
            "height": null,
            "justify_content": null,
            "justify_items": null,
            "left": null,
            "margin": null,
            "max_height": null,
            "max_width": null,
            "min_height": null,
            "min_width": null,
            "object_fit": null,
            "object_position": null,
            "order": null,
            "overflow": null,
            "overflow_x": null,
            "overflow_y": null,
            "padding": null,
            "right": null,
            "top": null,
            "visibility": null,
            "width": null
          }
        },
        "48d19a3f0088433a8f6d144206faae72": {
          "model_module": "@jupyter-widgets/controls",
          "model_name": "DescriptionStyleModel",
          "model_module_version": "1.5.0",
          "state": {
            "_model_module": "@jupyter-widgets/controls",
            "_model_module_version": "1.5.0",
            "_model_name": "DescriptionStyleModel",
            "_view_count": null,
            "_view_module": "@jupyter-widgets/base",
            "_view_module_version": "1.2.0",
            "_view_name": "StyleView",
            "description_width": ""
          }
        },
        "ee56ecc77c044ba9974be78e7aad165a": {
          "model_module": "@jupyter-widgets/base",
          "model_name": "LayoutModel",
          "model_module_version": "1.2.0",
          "state": {
            "_model_module": "@jupyter-widgets/base",
            "_model_module_version": "1.2.0",
            "_model_name": "LayoutModel",
            "_view_count": null,
            "_view_module": "@jupyter-widgets/base",
            "_view_module_version": "1.2.0",
            "_view_name": "LayoutView",
            "align_content": null,
            "align_items": null,
            "align_self": null,
            "border": null,
            "bottom": null,
            "display": null,
            "flex": null,
            "flex_flow": null,
            "grid_area": null,
            "grid_auto_columns": null,
            "grid_auto_flow": null,
            "grid_auto_rows": null,
            "grid_column": null,
            "grid_gap": null,
            "grid_row": null,
            "grid_template_areas": null,
            "grid_template_columns": null,
            "grid_template_rows": null,
            "height": null,
            "justify_content": null,
            "justify_items": null,
            "left": null,
            "margin": null,
            "max_height": null,
            "max_width": null,
            "min_height": null,
            "min_width": null,
            "object_fit": null,
            "object_position": null,
            "order": null,
            "overflow": null,
            "overflow_x": null,
            "overflow_y": null,
            "padding": null,
            "right": null,
            "top": null,
            "visibility": null,
            "width": null
          }
        }
      }
    }
  },
  "cells": [
    {
      "cell_type": "markdown",
      "source": [
        "# Map:"
      ],
      "metadata": {
        "id": "137hfSgttxfj"
      }
    },
    {
      "cell_type": "code",
      "source": [
        "!pip install pyspark"
      ],
      "metadata": {
        "colab": {
          "base_uri": "https://localhost:8080/"
        },
        "id": "WKHWjrDmnbEc",
        "outputId": "dfc58d45-8b48-4837-d6fa-7482fd766ee3"
      },
      "execution_count": null,
      "outputs": [
        {
          "output_type": "stream",
          "name": "stdout",
          "text": [
            "Requirement already satisfied: pyspark in /usr/local/lib/python3.10/dist-packages (3.5.3)\n",
            "Requirement already satisfied: py4j==0.10.9.7 in /usr/local/lib/python3.10/dist-packages (from pyspark) (0.10.9.7)\n"
          ]
        }
      ]
    },
    {
      "cell_type": "code",
      "source": [
        "from pyspark import SparkContext\n",
        "\n",
        "sc = SparkContext.getOrCreate()\n",
        "\n",
        "empleados = [\n",
        "    (\"Ana\", \"Ventas\", 48000),\n",
        "    (\"Carlos\", \"Marketing\", 54000),\n",
        "    (\"Luis\", \"Finanzas\", 60000),\n",
        "    (\"Marta\", \"Ventas\", 52000),\n",
        "    (\"Sofía\", \"Finanzas\", 58000)\n",
        "]\n",
        "\n",
        "rdd_empleados = sc.parallelize(empleados)\n",
        "\n",
        "rdd_empleados_mensual = rdd_empleados.map(lambda x: (x[0], x[1], x[2], x[2] / 12))\n",
        "\n",
        "resultado = rdd_empleados_mensual.collect()\n",
        "print(\"Empleados con salario mensual:\")\n",
        "for empleado in resultado:\n",
        "    print(empleado)\n"
      ],
      "metadata": {
        "colab": {
          "base_uri": "https://localhost:8080/"
        },
        "id": "uqDK30NItlI3",
        "outputId": "e01a6a29-1c14-445d-db86-a720b4897256"
      },
      "execution_count": null,
      "outputs": [
        {
          "output_type": "stream",
          "name": "stdout",
          "text": [
            "Empleados con salario mensual:\n",
            "('Ana', 'Ventas', 48000, 4000.0)\n",
            "('Carlos', 'Marketing', 54000, 4500.0)\n",
            "('Luis', 'Finanzas', 60000, 5000.0)\n",
            "('Marta', 'Ventas', 52000, 4333.333333333333)\n",
            "('Sofía', 'Finanzas', 58000, 4833.333333333333)\n"
          ]
        }
      ]
    },
    {
      "cell_type": "markdown",
      "source": [
        "# Filter:\n"
      ],
      "metadata": {
        "id": "_vbUz3K0t_Id"
      }
    },
    {
      "cell_type": "code",
      "source": [
        "from pyspark import SparkContext\n",
        "\n",
        "sc = SparkContext.getOrCreate()\n",
        "\n",
        "empleados = [\n",
        "    (\"Ana\", \"Ventas\", 48000),\n",
        "    (\"Carlos\", \"Marketing\", 54000),\n",
        "    (\"Luis\", \"Finanzas\", 60000),\n",
        "    (\"Marta\", \"Ventas\", 52000),\n",
        "    (\"Sofía\", \"Finanzas\", 58000),\n",
        "    (\"Juan\", \"IT\", 45000)\n",
        "]\n",
        "\n",
        "rdd_empleados = sc.parallelize(empleados)\n",
        "\n",
        "rdd_empleados_filtrados = rdd_empleados.filter(lambda x: x[2] > 50000)\n",
        "\n",
        "resultado = rdd_empleados_filtrados.collect()\n",
        "print(\"Empleados con salario anual superior a 50,000:\")\n",
        "for empleado in resultado:\n",
        "    print(empleado)\n"
      ],
      "metadata": {
        "colab": {
          "base_uri": "https://localhost:8080/"
        },
        "id": "9xQSFq9nuZEh",
        "outputId": "07bf3049-0027-4b9a-b0a8-dd34797ef651"
      },
      "execution_count": null,
      "outputs": [
        {
          "output_type": "stream",
          "name": "stdout",
          "text": [
            "Empleados con salario anual superior a 50,000:\n",
            "('Carlos', 'Marketing', 54000)\n",
            "('Luis', 'Finanzas', 60000)\n",
            "('Marta', 'Ventas', 52000)\n",
            "('Sofía', 'Finanzas', 58000)\n"
          ]
        }
      ]
    },
    {
      "cell_type": "markdown",
      "source": [
        "# FlatMap"
      ],
      "metadata": {
        "id": "HAzkz2evufyd"
      }
    },
    {
      "cell_type": "code",
      "source": [
        "from pyspark import SparkContext\n",
        "\n",
        "sc = SparkContext.getOrCreate()\n",
        "\n",
        "oraciones = [\n",
        "    \"Aprendiendo todos los dias\",\n",
        "    \"Spark es una herramienta poderosa para big data\",\n",
        "    \"Navidad esta cada vez mas cerca\"\n",
        "]\n",
        "\n",
        "rdd_oraciones = sc.parallelize(oraciones)\n",
        "\n",
        "rdd_palabras = rdd_oraciones.flatMap(lambda oracion: oracion.split(\" \"))\n",
        "\n",
        "resultado = rdd_palabras.collect()\n",
        "print(\"Lista de palabras en las oraciones:\")\n",
        "for palabra in resultado:\n",
        "    print(palabra)\n"
      ],
      "metadata": {
        "colab": {
          "base_uri": "https://localhost:8080/"
        },
        "id": "GW6_ob9bufBk",
        "outputId": "c4d88160-4af7-4197-c5f8-4aa41d384e02"
      },
      "execution_count": null,
      "outputs": [
        {
          "output_type": "stream",
          "name": "stdout",
          "text": [
            "Lista de palabras en las oraciones:\n",
            "Aprendiendo\n",
            "todos\n",
            "los\n",
            "dias\n",
            "Spark\n",
            "es\n",
            "una\n",
            "herramienta\n",
            "poderosa\n",
            "para\n",
            "big\n",
            "data\n",
            "Navidad\n",
            "esta\n",
            "cada\n",
            "vez\n",
            "ams\n",
            "cerca\n"
          ]
        }
      ]
    },
    {
      "cell_type": "markdown",
      "source": [
        "# Union:"
      ],
      "metadata": {
        "id": "lWaE8Mk7wcZU"
      }
    },
    {
      "cell_type": "code",
      "source": [
        "from pyspark import SparkContext\n",
        "\n",
        "sc = SparkContext.getOrCreate()\n",
        "\n",
        "curso_a = [(\"Ana\", \"Matemáticas\"), (\"Luis\", \"Historia\"), (\"Sofía\", \"Química\")]\n",
        "curso_b = [(\"Carlos\", \"Matemáticas\"), (\"Marta\", \"Física\"), (\"Ana\", \"Biología\")]\n",
        "\n",
        "rdd_curso_a = sc.parallelize(curso_a)\n",
        "rdd_curso_b = sc.parallelize(curso_b)\n",
        "\n",
        "rdd_union = rdd_curso_a.union(rdd_curso_b)\n",
        "\n",
        "resultado = rdd_union.collect()\n",
        "print(\"Lista combinada de estudiantes de ambos cursos:\")\n",
        "for estudiante in resultado:\n",
        "    print(estudiante)\n"
      ],
      "metadata": {
        "colab": {
          "base_uri": "https://localhost:8080/"
        },
        "id": "EwnDSR5Gwe8q",
        "outputId": "0c31d10f-9812-418b-d19e-2d5a66c081d8"
      },
      "execution_count": null,
      "outputs": [
        {
          "output_type": "stream",
          "name": "stdout",
          "text": [
            "Lista combinada de estudiantes de ambos cursos:\n",
            "('Ana', 'Matemáticas')\n",
            "('Luis', 'Historia')\n",
            "('Sofía', 'Química')\n",
            "('Carlos', 'Matemáticas')\n",
            "('Marta', 'Física')\n",
            "('Ana', 'Biología')\n"
          ]
        }
      ]
    },
    {
      "cell_type": "markdown",
      "source": [
        "# Intersection:"
      ],
      "metadata": {
        "id": "khazX0J9wjW5"
      }
    },
    {
      "cell_type": "code",
      "source": [
        "from pyspark import SparkContext\n",
        "\n",
        "sc = SparkContext.getOrCreate()\n",
        "\n",
        "tienda_a = [(\"Laptop\", 1200), (\"Tablet\", 300), (\"Celular\", 500)]\n",
        "tienda_b = [(\"Celular\", 500), (\"Televisión\", 800), (\"Tablet\", 300)]\n",
        "\n",
        "rdd_tienda_a = sc.parallelize(tienda_a)\n",
        "rdd_tienda_b = sc.parallelize(tienda_b)\n",
        "\n",
        "rdd_interseccion = rdd_tienda_a.intersection(rdd_tienda_b)\n",
        "\n",
        "resultado = rdd_interseccion.collect()\n",
        "print(\"Productos comunes en ambas tiendas:\")\n",
        "for producto in resultado:\n",
        "    print(producto)\n"
      ],
      "metadata": {
        "colab": {
          "base_uri": "https://localhost:8080/"
        },
        "id": "p2dtWNUcwpgP",
        "outputId": "3276065c-3322-448f-bc53-23ceec30a5ba"
      },
      "execution_count": null,
      "outputs": [
        {
          "output_type": "stream",
          "name": "stdout",
          "text": [
            "Productos comunes en ambas tiendas:\n",
            "('Tablet', 300)\n",
            "('Celular', 500)\n"
          ]
        }
      ]
    },
    {
      "cell_type": "markdown",
      "source": [
        "# Distinc:"
      ],
      "metadata": {
        "id": "0tZUdlxQwthZ"
      }
    },
    {
      "cell_type": "code",
      "source": [
        "from pyspark import SparkContext\n",
        "\n",
        "sc = SparkContext.getOrCreate()\n",
        "\n",
        "productos = [\n",
        "    \"Laptop\", \"Tablet\", \"Sofá\", \"Celular\", \"Tablet\", \"Celular\", \"Laptop\", \"Cámara\"\n",
        "]\n",
        "\n",
        "rdd_productos = sc.parallelize(productos)\n",
        "\n",
        "rdd_unicos = rdd_productos.distinct()\n",
        "\n",
        "resultado = rdd_unicos.collect()\n",
        "print(\"Lista de productos únicos:\")\n",
        "for producto in resultado:\n",
        "    print(producto)\n"
      ],
      "metadata": {
        "colab": {
          "base_uri": "https://localhost:8080/"
        },
        "id": "FZyNl6RVwxaY",
        "outputId": "85d73d59-3063-4ba2-9b9e-e0517b61d63a"
      },
      "execution_count": null,
      "outputs": [
        {
          "output_type": "stream",
          "name": "stdout",
          "text": [
            "Lista de productos únicos:\n",
            "Tablet\n",
            "Sofá\n",
            "Celular\n",
            "Laptop\n",
            "Cámara\n"
          ]
        }
      ]
    },
    {
      "cell_type": "markdown",
      "source": [
        "# GroupByKey"
      ],
      "metadata": {
        "id": "CmqvUZbow15v"
      }
    },
    {
      "cell_type": "code",
      "source": [
        "from pyspark import SparkContext\n",
        "\n",
        "sc = SparkContext.getOrCreate()\n",
        "\n",
        "ventas = [\n",
        "    (\"Electrónica\", 300),\n",
        "    (\"Electrónica\", 450),\n",
        "    (\"Ropa\", 120),\n",
        "    (\"Ropa\", 80),\n",
        "    (\"Hogar\", 150),\n",
        "    (\"Electrónica\", 250),\n",
        "    (\"Hogar\", 200)\n",
        "]\n",
        "\n",
        "rdd_ventas = sc.parallelize(ventas)\n",
        "\n",
        "rdd_ventas_agrupadas = rdd_ventas.groupByKey()\n",
        "\n",
        "resultado = rdd_ventas_agrupadas.collect()\n",
        "print(\"Montos de ventas agrupados por departamento:\")\n",
        "for departamento, montos in resultado:\n",
        "    print(departamento, list(montos))\n"
      ],
      "metadata": {
        "colab": {
          "base_uri": "https://localhost:8080/"
        },
        "id": "SUIVvRGNw6cT",
        "outputId": "5edb8d06-8124-4cc7-aec8-e0d5e7f89e3f"
      },
      "execution_count": null,
      "outputs": [
        {
          "output_type": "stream",
          "name": "stdout",
          "text": [
            "Montos de ventas agrupados por departamento:\n",
            "Electrónica [300, 450, 250]\n",
            "Hogar [150, 200]\n",
            "Ropa [120, 80]\n"
          ]
        }
      ]
    },
    {
      "cell_type": "markdown",
      "source": [
        "# reduceByKey"
      ],
      "metadata": {
        "id": "qKYfNCfwxBGE"
      }
    },
    {
      "cell_type": "code",
      "source": [
        "from pyspark import SparkContext\n",
        "\n",
        "sc = SparkContext.getOrCreate()\n",
        "\n",
        "ventas = [\n",
        "    (\"Electrónica\", 300),\n",
        "    (\"Electrónica\", 450),\n",
        "    (\"Ropa\", 120),\n",
        "    (\"Ropa\", 80),\n",
        "    (\"Hogar\", 150),\n",
        "    (\"Electrónica\", 250),\n",
        "    (\"Hogar\", 200)\n",
        "]\n",
        "\n",
        "rdd_ventas = sc.parallelize(ventas)\n",
        "\n",
        "rdd_totales = rdd_ventas.reduceByKey(lambda x, y: x + y)\n",
        "\n",
        "resultado = rdd_totales.collect()\n",
        "print(\"Total de ventas por departamento:\")\n",
        "for departamento, total in resultado:\n",
        "    print(departamento, total)\n"
      ],
      "metadata": {
        "colab": {
          "base_uri": "https://localhost:8080/"
        },
        "id": "nBF_7tj_xE6U",
        "outputId": "ed8702ea-e5de-481c-d015-9b31b2cdd018"
      },
      "execution_count": null,
      "outputs": [
        {
          "output_type": "stream",
          "name": "stdout",
          "text": [
            "Total de ventas por departamento:\n",
            "Electrónica 1000\n",
            "Hogar 350\n",
            "Ropa 200\n"
          ]
        }
      ]
    },
    {
      "cell_type": "markdown",
      "source": [
        "# SortByKey"
      ],
      "metadata": {
        "id": "axyUnwwRxLxb"
      }
    },
    {
      "cell_type": "code",
      "source": [
        "from pyspark import SparkContext\n",
        "\n",
        "sc = SparkContext.getOrCreate()\n",
        "\n",
        "empleados = [\n",
        "    (48000, \"Ana\"),\n",
        "    (54000, \"Carlos\"),\n",
        "    (60000, \"Luis\"),\n",
        "    (52000, \"Marta\"),\n",
        "    (58000, \"Sofía\"),\n",
        "    (45000, \"Juan\")\n",
        "]\n",
        "\n",
        "rdd_empleados = sc.parallelize(empleados)\n",
        "\n",
        "rdd_ordenados = rdd_empleados.sortByKey()\n",
        "\n",
        "resultado = rdd_ordenados.collect()\n",
        "print(\"Empleados ordenados por salario:\")\n",
        "for salario, empleado in resultado:\n",
        "    print(f\"{empleado}: {salario}\")\n"
      ],
      "metadata": {
        "colab": {
          "base_uri": "https://localhost:8080/"
        },
        "id": "G2WfxWDSxN9K",
        "outputId": "a2a6900c-6d77-4ba3-f05c-4d189d4503a6"
      },
      "execution_count": null,
      "outputs": [
        {
          "output_type": "stream",
          "name": "stdout",
          "text": [
            "Empleados ordenados por salario:\n",
            "Juan: 45000\n",
            "Ana: 48000\n",
            "Marta: 52000\n",
            "Carlos: 54000\n",
            "Sofía: 58000\n",
            "Luis: 60000\n"
          ]
        }
      ]
    },
    {
      "cell_type": "markdown",
      "source": [
        "# Join:"
      ],
      "metadata": {
        "id": "pbW25aM1xjRQ"
      }
    },
    {
      "cell_type": "code",
      "source": [
        "from pyspark import SparkContext\n",
        "\n",
        "sc = SparkContext.getOrCreate()\n",
        "\n",
        "empleados = [\n",
        "    (1, \"Ana\"),\n",
        "    (2, \"Carlos\"),\n",
        "    (3, \"Luis\"),\n",
        "    (4, \"Marta\"),\n",
        "    (5, \"Sofía\")\n",
        "]\n",
        "\n",
        "departamentos = [\n",
        "    (1, \"Ventas\", 48000),\n",
        "    (2, \"Marketing\", 54000),\n",
        "    (3, \"Finanzas\", 60000),\n",
        "    (4, \"Ventas\", 52000),\n",
        "    (5, \"Finanzas\", 58000)\n",
        "]\n",
        "\n",
        "rdd_empleados = sc.parallelize(empleados)\n",
        "rdd_departamentos = sc.parallelize(departamentos)\n",
        "\n",
        "rdd_empleados_departamentos = rdd_empleados.join(rdd_departamentos)\n",
        "\n",
        "resultado = rdd_empleados_departamentos.collect()\n",
        "print(\"Detalles completos de empleados y sus departamentos:\")\n",
        "for id_empleado, info in resultado:\n",
        "    nombre = info[0]\n",
        "    departamento = info[1][0]\n",
        "    salario = info[1][1]\n",
        "    print(f\"ID: {id_empleado}, Nombre: {nombre}, Departamento: {departamento}, Salario Anual: ${salario}\")\n",
        "\n"
      ],
      "metadata": {
        "colab": {
          "base_uri": "https://localhost:8080/"
        },
        "id": "wXyKUoEwxlSG",
        "outputId": "2d2ac835-0edd-4287-fff3-5dfd28712304"
      },
      "execution_count": null,
      "outputs": [
        {
          "output_type": "stream",
          "name": "stdout",
          "text": [
            "Detalles completos de empleados y sus departamentos:\n",
            "ID: 4, Nombre: Marta, Departamento: V, Salario Anual: $e\n",
            "ID: 1, Nombre: Ana, Departamento: V, Salario Anual: $e\n",
            "ID: 5, Nombre: Sofía, Departamento: F, Salario Anual: $i\n",
            "ID: 2, Nombre: Carlos, Departamento: M, Salario Anual: $a\n",
            "ID: 3, Nombre: Luis, Departamento: F, Salario Anual: $i\n"
          ]
        }
      ]
    },
    {
      "cell_type": "markdown",
      "source": [
        "# CoGroup:"
      ],
      "metadata": {
        "id": "-N4rGIA4yNg5"
      }
    },
    {
      "cell_type": "code",
      "source": [
        "from pyspark import SparkContext\n",
        "\n",
        "sc = SparkContext.getOrCreate()\n",
        "\n",
        "empleados = [\n",
        "    (1, \"Ana\"),\n",
        "    (2, \"Carlos\"),\n",
        "    (3, \"Luis\"),\n",
        "    (4, \"Marta\"),\n",
        "    (5, \"Sofía\")\n",
        "]\n",
        "\n",
        "proyectos = [\n",
        "    (1, \"Proyecto A\"),\n",
        "    (1, \"Proyecto B\"),\n",
        "    (2, \"Proyecto A\"),\n",
        "    (3, \"Proyecto C\"),\n",
        "    (4, \"Proyecto A\"),\n",
        "    (4, \"Proyecto B\"),\n",
        "    (5, \"Proyecto D\")\n",
        "]\n",
        "\n",
        "horas_proyectos = [\n",
        "    (1, 20),\n",
        "    (1, 15),\n",
        "    (2, 30),\n",
        "    (3, 40),\n",
        "    (4, 25),\n",
        "    (4, 10),\n",
        "    (5, 35)\n",
        "]\n",
        "\n",
        "rdd_empleados = sc.parallelize(empleados)\n",
        "rdd_proyectos = sc.parallelize(proyectos)\n",
        "rdd_horas = sc.parallelize(horas_proyectos)\n",
        "\n",
        "rdd_proyectos_kv = rdd_proyectos.map(lambda x: (x[0], x[1]))\n",
        "rdd_horas_kv = rdd_horas.map(lambda x: (x[0], x[1]))\n",
        "\n",
        "rdd_empleados_proyectos_horas = rdd_proyectos_kv.cogroup(rdd_horas_kv)\n",
        "\n",
        "rdd_resultado = rdd_empleados.join(rdd_empleados_proyectos_horas)\n",
        "\n",
        "resultado = rdd_resultado.collect()\n",
        "print(\"Detalles de proyectos y horas dedicadas por cada empleado:\")\n",
        "for id_empleado, (nombre, (proyectos, horas)) in resultado:\n",
        "    proyectos = list(proyectos)\n",
        "    horas = list(horas)\n",
        "    print(f\"ID: {id_empleado}, Nombre: {nombre}, Proyectos: {proyectos}, Horas dedicadas: {horas}\")\n"
      ],
      "metadata": {
        "colab": {
          "base_uri": "https://localhost:8080/"
        },
        "id": "pLm6Nsg-yQDm",
        "outputId": "dadcd5a0-379b-47a4-8223-0e75f97fa10c"
      },
      "execution_count": null,
      "outputs": [
        {
          "output_type": "stream",
          "name": "stdout",
          "text": [
            "Detalles de proyectos y horas dedicadas por cada empleado:\n",
            "ID: 1, Nombre: Ana, Proyectos: ['Proyecto A', 'Proyecto B'], Horas dedicadas: [20, 15]\n",
            "ID: 2, Nombre: Carlos, Proyectos: ['Proyecto A'], Horas dedicadas: [30]\n",
            "ID: 3, Nombre: Luis, Proyectos: ['Proyecto C'], Horas dedicadas: [40]\n",
            "ID: 4, Nombre: Marta, Proyectos: ['Proyecto A', 'Proyecto B'], Horas dedicadas: [25, 10]\n",
            "ID: 5, Nombre: Sofía, Proyectos: ['Proyecto D'], Horas dedicadas: [35]\n"
          ]
        }
      ]
    },
    {
      "cell_type": "markdown",
      "source": [
        "# Coalesce:"
      ],
      "metadata": {
        "id": "5GfSFJsqystm"
      }
    },
    {
      "cell_type": "markdown",
      "source": [
        "# PROPUESTA GIDGET (INTERACT)"
      ],
      "metadata": {
        "id": "kMgWkwjPjVHl"
      }
    },
    {
      "cell_type": "code",
      "source": [
        "#  Específicamente, el widget deslizante interactivo (interact) permite ajustar un valor en un rango dado y observar cómo afecta al resultado en tiempo real.\n",
        "from ipywidgets import interact\n",
        "\n",
        "def multiplicar(val, data):\n",
        "    resultado = [(categoria, total * val) for categoria, total in data]\n",
        "    print(\"Resultados actualizados:\", resultado)\n",
        "\n",
        "# pasamos totales al widget\n",
        "interact(lambda val: multiplicar(val, totales), val=(1, 10))\n"
      ],
      "metadata": {
        "colab": {
          "base_uri": "https://localhost:8080/",
          "height": 84,
          "referenced_widgets": [
            "23629b89be834412bc5f10f9310193a8",
            "6630eb690d994b95b024418aec16336a",
            "cf9f87ff44714998b574236e3b87e59f",
            "9244d06d08fd4b77a149ec8a762d094c",
            "42e8a1a40b2446b283c907562b45d601",
            "6ed22bde996a44e283071d5d18d77c90",
            "d55cc48b6fb1444ea1691203131e3b96"
          ]
        },
        "id": "siH7ZegKh3I6",
        "outputId": "3198a25a-720d-4307-c969-f8509e875348"
      },
      "execution_count": null,
      "outputs": [
        {
          "output_type": "display_data",
          "data": {
            "text/plain": [
              "interactive(children=(IntSlider(value=5, description='val', max=10, min=1), Output()), _dom_classes=('widget-i…"
            ],
            "application/vnd.jupyter.widget-view+json": {
              "version_major": 2,
              "version_minor": 0,
              "model_id": "23629b89be834412bc5f10f9310193a8"
            }
          },
          "metadata": {}
        },
        {
          "output_type": "execute_result",
          "data": {
            "text/plain": [
              "<function __main__.<lambda>(val)>"
            ]
          },
          "metadata": {},
          "execution_count": 7
        }
      ]
    },
    {
      "cell_type": "markdown",
      "source": [
        "# Agregamos gráficos atractivos para representar resultados."
      ],
      "metadata": {
        "id": "U8qRGwbTj6AQ"
      }
    },
    {
      "cell_type": "code",
      "source": [
        "import matplotlib.pyplot as plt\n",
        "\n",
        "# preparamos datos para visualizacion\n",
        "categorias, valores = zip(*totales)\n",
        "plt.bar(categorias, valores, color=['#FF5733', '#33FF57', '#3357FF'])\n",
        "plt.title(\"Totales por Categoría\", fontsize=16, fontweight='bold')\n",
        "plt.xlabel(\"Categorías\")\n",
        "plt.ylabel(\"Totales\")\n",
        "plt.grid(axis='y', linestyle='--', alpha=0.7)\n",
        "plt.show()\n"
      ],
      "metadata": {
        "colab": {
          "base_uri": "https://localhost:8080/",
          "height": 475
        },
        "id": "OM6jnvl1jwLr",
        "outputId": "8579e5ec-4af3-4469-d4e5-15e4a6b88ab6"
      },
      "execution_count": null,
      "outputs": [
        {
          "output_type": "display_data",
          "data": {
            "text/plain": [
              "<Figure size 640x480 with 1 Axes>"
            ],
            "image/png": "[encoded data removed]"
          },
          "metadata": {}
        }
      ]
    },
    {
      "cell_type": "markdown",
      "source": [],
      "metadata": {
        "id": "6Dqoetj5j5JD"
      }
    },
    {
      "cell_type": "code",
      "source": [
        "from ipywidgets import interact, Dropdown\n",
        "\n",
        "# creamos una funcion para mostrar datos de una categoría específica\n",
        "def mostrar_categoria(categoria):\n",
        "    resultado = [total for cat, total in totales if cat == categoria]\n",
        "    print(f\"Resultados para {categoria}: {resultado}\")\n",
        "\n",
        "# creamos nuestro dropdown\n",
        "categorias = [cat for cat, _ in totales]\n",
        "dropdown = Dropdown(options=categorias, description='Categoría:')\n",
        "\n",
        "# conectamos\n",
        "interact(mostrar_categoria, categoria=dropdown)\n"
      ],
      "metadata": {
        "colab": {
          "base_uri": "https://localhost:8080/",
          "height": 154,
          "referenced_widgets": [
            "b766c9b9af494483959f26aa71c055b4",
            "6443f39d305c450689ff5f90d98899e7",
            "de2d26c264644c4eb0d8b37bbca994a8",
            "26bcfc47a9244ce5bb34675994b376c8",
            "d9626e3bd0784222a782c96c07acc941",
            "38f6df6fc6964b4c854b06e12631c13c",
            "49eb374b984b4ee3ab7ba9e34582f4d3"
          ]
        },
        "id": "1FhgkZlWlCU6",
        "outputId": "3c9c941b-4119-4b6b-a5da-c8f19b9284d7"
      },
      "execution_count": 9,
      "outputs": [
        {
          "output_type": "display_data",
          "data": {
            "text/plain": [
              "interactive(children=(Dropdown(description='Categoría:', options=('Electrónica', 'Hogar', 'Ropa'), value='Elec…"
            ],
            "application/vnd.jupyter.widget-view+json": {
              "version_major": 2,
              "version_minor": 0,
              "model_id": "b766c9b9af494483959f26aa71c055b4"
            }
          },
          "metadata": {}
        },
        {
          "output_type": "execute_result",
          "data": {
            "text/plain": [
              "<function __main__.mostrar_categoria(categoria)>"
            ],
            "text/html": [
              "<div style=\"max-width:800px; border: 1px solid var(--colab-border-color);\"><style>\n",
              "      pre.function-repr-contents {\n",
              "        overflow-x: auto;\n",
              "        padding: 8px 12px;\n",
              "        max-height: 500px;\n",
              "      }\n",
              "\n",
              "      pre.function-repr-contents.function-repr-contents-collapsed {\n",
              "        cursor: pointer;\n",
              "        max-height: 100px;\n",
              "      }\n",
              "    </style>\n",
              "    <pre style=\"white-space: initial; background:\n",
              "         var(--colab-secondary-surface-color); padding: 8px 12px;\n",
              "         border-bottom: 1px solid var(--colab-border-color);\"><b>mostrar_categoria</b><br/>def mostrar_categoria(categoria)</pre><pre class=\"function-repr-contents function-repr-contents-collapsed\" style=\"\"><a class=\"filepath\" style=\"display:none\" href=\"#\">/content/&lt;ipython-input-9-63e6bc68bd7b&gt;</a>&lt;no docstring&gt;</pre></div>"
            ]
          },
          "metadata": {},
          "execution_count": 9
        }
      ]
    },
    {
      "cell_type": "markdown",
      "source": [
        "# Nueva sección"
      ],
      "metadata": {
        "id": "x4J6Iei5pGc0"
      }
    },
    {
      "cell_type": "code",
      "source": [
        "from ipywidgets import interact, Checkbox\n",
        "\n",
        "# creamos una funcion para mostrar resultados totales a una base\n",
        "def filtrar_totales(mostrar_mayores):\n",
        "    if mostrar_mayores:\n",
        "        resultado = [(cat, total) for cat, total in totales if total > 200]\n",
        "    else:\n",
        "        resultado = totales\n",
        "    print(\"Resultados filtrados:\", resultado)\n",
        "\n",
        "# creamos el checkbox para marcar cuando querramos que nuestro valor devuelva mayor a 200 o segun las condicion que queramos agregar\n",
        "checkbox = Checkbox(value=False, description='Mostrar totales mayores a 200')\n",
        "\n",
        "# conectamos el checkbox con nuestra funcion que hemos creado\n",
        "interact(filtrar_totales, mostrar_mayores=checkbox)\n"
      ],
      "metadata": {
        "colab": {
          "base_uri": "https://localhost:8080/",
          "height": 154,
          "referenced_widgets": [
            "28d0388edd914417a542436d8e37cd4f",
            "7617737159a244b88da261a70516cfaa",
            "0c0082ab95884201a2d5d904d4aba1f5",
            "0a08dc2cfded4ba2b42810f4ea2414db",
            "8e10490bb01f41f19a4d6c9d20baafa1",
            "0570f3c1c1f04e8b9d92b3df63c9f601",
            "46ba07cec4cd47c7a5a041f46e1b9899"
          ]
        },
        "id": "N17n7KwrldfW",
        "outputId": "738b4d77-11f7-438d-c89e-e8c2ee3b13a7"
      },
      "execution_count": 10,
      "outputs": [
        {
          "output_type": "display_data",
          "data": {
            "text/plain": [
              "interactive(children=(Checkbox(value=False, description='Mostrar totales mayores a 200'), Output()), _dom_clas…"
            ],
            "application/vnd.jupyter.widget-view+json": {
              "version_major": 2,
              "version_minor": 0,
              "model_id": "28d0388edd914417a542436d8e37cd4f"
            }
          },
          "metadata": {}
        },
        {
          "output_type": "execute_result",
          "data": {
            "text/plain": [
              "<function __main__.filtrar_totales(mostrar_mayores)>"
            ],
            "text/html": [
              "<div style=\"max-width:800px; border: 1px solid var(--colab-border-color);\"><style>\n",
              "      pre.function-repr-contents {\n",
              "        overflow-x: auto;\n",
              "        padding: 8px 12px;\n",
              "        max-height: 500px;\n",
              "      }\n",
              "\n",
              "      pre.function-repr-contents.function-repr-contents-collapsed {\n",
              "        cursor: pointer;\n",
              "        max-height: 100px;\n",
              "      }\n",
              "    </style>\n",
              "    <pre style=\"white-space: initial; background:\n",
              "         var(--colab-secondary-surface-color); padding: 8px 12px;\n",
              "         border-bottom: 1px solid var(--colab-border-color);\"><b>filtrar_totales</b><br/>def filtrar_totales(mostrar_mayores)</pre><pre class=\"function-repr-contents function-repr-contents-collapsed\" style=\"\"><a class=\"filepath\" style=\"display:none\" href=\"#\">/content/&lt;ipython-input-10-3ec9d851d706&gt;</a>&lt;no docstring&gt;</pre></div>"
            ]
          },
          "metadata": {},
          "execution_count": 10
        }
      ]
    },
    {
      "cell_type": "code",
      "source": [
        "from ipywidgets import Text\n",
        "\n",
        "# Creamos una funcion para crear valores personalizados\n",
        "def ingresar_valor(valor):\n",
        "    try:\n",
        "        val = int(valor)\n",
        "        resultado = [(cat, total * val) for cat, total in totales]\n",
        "        print(\"Resultados personalizados:\", resultado)\n",
        "    except ValueError:\n",
        "        print(\"Por favor, ingresa un número válido.\")\n",
        "\n",
        "# Creamos nuestro TEXT INPUT para que el usuario ingrese el valor del numero multiplicador\n",
        "text_input = Text(value='1', description='Multiplicador:')\n",
        "\n",
        "# Cconoctamos el txt con nuestra funcion\n",
        "interact(ingresar_valor, valor=text_input)\n"
      ],
      "metadata": {
        "id": "EYduBPKTlmTo",
        "outputId": "b9b37ec5-1b1a-4a7e-9ecb-8828b00b863c",
        "colab": {
          "base_uri": "https://localhost:8080/",
          "height": 154,
          "referenced_widgets": [
            "f91c5769a36745d9b086b6b4b496ba05",
            "3ed25e146f3548adbe48136dfc80c33a",
            "c1ba00e8042a4d8d8ca5191369024bba",
            "627d4a3ad55843f38472f55d31355f13",
            "a87a30f748d045a68fc54948eb2356c1",
            "f386c48c646649daa896d770ec969335",
            "fa743c81852346478097b42ce147d4b9"
          ]
        }
      },
      "execution_count": 11,
      "outputs": [
        {
          "output_type": "display_data",
          "data": {
            "text/plain": [
              "interactive(children=(Text(value='1', description='Multiplicador:'), Output()), _dom_classes=('widget-interact…"
            ],
            "application/vnd.jupyter.widget-view+json": {
              "version_major": 2,
              "version_minor": 0,
              "model_id": "f91c5769a36745d9b086b6b4b496ba05"
            }
          },
          "metadata": {}
        },
        {
          "output_type": "execute_result",
          "data": {
            "text/plain": [
              "<function __main__.ingresar_valor(valor)>"
            ],
            "text/html": [
              "<div style=\"max-width:800px; border: 1px solid var(--colab-border-color);\"><style>\n",
              "      pre.function-repr-contents {\n",
              "        overflow-x: auto;\n",
              "        padding: 8px 12px;\n",
              "        max-height: 500px;\n",
              "      }\n",
              "\n",
              "      pre.function-repr-contents.function-repr-contents-collapsed {\n",
              "        cursor: pointer;\n",
              "        max-height: 100px;\n",
              "      }\n",
              "    </style>\n",
              "    <pre style=\"white-space: initial; background:\n",
              "         var(--colab-secondary-surface-color); padding: 8px 12px;\n",
              "         border-bottom: 1px solid var(--colab-border-color);\"><b>ingresar_valor</b><br/>def ingresar_valor(valor)</pre><pre class=\"function-repr-contents function-repr-contents-collapsed\" style=\"\"><a class=\"filepath\" style=\"display:none\" href=\"#\">/content/&lt;ipython-input-11-9548ffe3e301&gt;</a>&lt;no docstring&gt;</pre></div>"
            ]
          },
          "metadata": {},
          "execution_count": 11
        }
      ]
    },
    {
      "cell_type": "markdown",
      "source": [
        "# PROPUESTA INTERESANTE - Sistema Interactivo de Gestión y Visualización de Categorías con Conexión a Base de Datos\""
      ],
      "metadata": {
        "id": "ZvZCpSkqshy7"
      }
    },
    {
      "cell_type": "code",
      "source": [
        "# CREAMOS UNA CONEXION CON LA BD PARA AGREGAR CATEGORIAS Y QUE NOS MUESTRE UNA TABLA ANALITICA PARA VER COMO SE MANEJAN LOS RESULTADOS DE ENTRAR QUE COLOCAMOS A NUESTRAS CATEGORIAS\n",
        "import sqlite3\n",
        "\n",
        "# Conexión a la base de datos\n",
        "conn = sqlite3.connect('categorias.db')\n",
        "cursor = conn.cursor()\n",
        "\n",
        "# Crear tabla si no existe\n",
        "cursor.execute('''\n",
        "CREATE TABLE IF NOT EXISTS categorias (\n",
        "    id INTEGER PRIMARY KEY AUTOINCREMENT,\n",
        "    nombre TEXT UNIQUE,\n",
        "    valor INTEGER\n",
        ")\n",
        "''')\n",
        "conn.commit()\n"
      ],
      "metadata": {
        "id": "hyQk0QydnJPh"
      },
      "execution_count": 14,
      "outputs": []
    },
    {
      "cell_type": "code",
      "source": [
        "# creamos una funcion para añadir una nueva categoría y registrar en la BD\n",
        "def agregar_categoria(b):\n",
        "    nueva_categoria = text_input.value.strip()\n",
        "    if nueva_categoria and nueva_categoria not in categorias:\n",
        "        categorias[nueva_categoria] = slider_nuevo_categoria.value\n",
        "        # Guardar en la base de datos\n",
        "        try:\n",
        "            cursor.execute('INSERT INTO categorias (nombre, valor) VALUES (?, ?)',\n",
        "                           (nueva_categoria, slider_nuevo_categoria.value))\n",
        "            conn.commit()\n",
        "            print(f\"Categoría '{nueva_categoria}' añadida a la base de datos.\")\n",
        "        except sqlite3.IntegrityError:\n",
        "            print(f\"La categoría '{nueva_categoria}' ya existe en la base de datos.\")\n",
        "        actualizar_grafico()\n"
      ],
      "metadata": {
        "id": "WPVCiDclnLVu"
      },
      "execution_count": 15,
      "outputs": []
    },
    {
      "cell_type": "code",
      "source": [
        "# cargamos datos desde la base de datos al incio\n",
        "def cargar_categorias():\n",
        "    cursor.execute('SELECT nombre, valor FROM categorias')\n",
        "    for nombre, valor in cursor.fetchall():\n",
        "        categorias[nombre] = valor\n",
        "\n",
        "# cargamos datos inciaeles\n",
        "cargar_categorias()\n"
      ],
      "metadata": {
        "id": "xouN-1M2nNbk"
      },
      "execution_count": 16,
      "outputs": []
    },
    {
      "cell_type": "code",
      "source": [
        "from ipywidgets import interact, Text, IntSlider, VBox, HBox, Button, Output\n",
        "import matplotlib.pyplot as plt\n",
        "import sqlite3\n",
        "# podemos hacer la carga desde nuestra BD ( podemos hacer la conexion con una BD que ya tenemos y solo vincularla especificando que BD queremos trabajar)\n",
        "# hacemos el llamdo a nuestra conexion con nuestra BD\n",
        "conn = sqlite3.connect('categorias.db')\n",
        "cursor = conn.cursor()\n",
        "\n",
        "# creamos la tabla si no existe\n",
        "cursor.execute('''\n",
        "CREATE TABLE IF NOT EXISTS categorias (\n",
        "    id INTEGER PRIMARY KEY AUTOINCREMENT,\n",
        "    nombre TEXT UNIQUE,\n",
        "    valor INTEGER\n",
        ")\n",
        "''')\n",
        "conn.commit()\n",
        "\n",
        "# manejamos los datos iniciales\n",
        "categorias = {}\n",
        "output = Output()\n",
        "\n",
        "\n",
        "def cargar_categorias():\n",
        "    cursor.execute('SELECT nombre, valor FROM categorias')\n",
        "    for nombre, valor in cursor.fetchall():\n",
        "        categorias[nombre] = valor\n",
        "\n",
        "cargar_categorias()\n",
        "\n",
        "# Creamos una funcion para actualizar nuestro grafico que nos ayudara en el analisis\n",
        "def actualizar_grafico():\n",
        "    output.clear_output()\n",
        "    with output:\n",
        "        plt.bar(categorias.keys(), categorias.values(), color=['#FF5733', '#33FF57', '#3357FF', '#FFD700'])\n",
        "        plt.title(\"Totales por Categoría\", fontsize=16, fontweight='bold')\n",
        "        plt.xlabel(\"Categorías\")\n",
        "        plt.ylabel(\"Totales\")\n",
        "        plt.grid(axis='y', linestyle='--', alpha=0.7)\n",
        "        plt.show()\n",
        "\n",
        "# ahora una funcion def para nueva categoria\n",
        "def agregar_categoria(b):\n",
        "    nueva_categoria = text_input.value.strip()\n",
        "    if nueva_categoria and nueva_categoria not in categorias:\n",
        "        categorias[nueva_categoria] = slider_nuevo_categoria.value\n",
        "        try:\n",
        "            cursor.execute('INSERT INTO categorias (nombre, valor) VALUES (?, ?)',\n",
        "                           (nueva_categoria, slider_nuevo_categoria.value))\n",
        "            conn.commit()\n",
        "            print(f\"Categoría '{nueva_categoria}' añadida a la base de datos.\")\n",
        "        except sqlite3.IntegrityError:\n",
        "            print(f\"La categoría '{nueva_categoria}' ya existe en la base de datos.\")\n",
        "        actualizar_grafico()\n",
        "\n",
        "# aqui decidimos crear un slider para manipular los valores iniciales de nuestras categorias a agregar\n",
        "slider_nuevo_categoria = IntSlider(value=100, min=1, max=500, description='Valor Inicial:')\n",
        "\n",
        "# creamos un txt input para mandar el nombre de nuestra categoria\n",
        "text_input = Text(value='', placeholder='Nueva Categoría', description='Categoría:')\n",
        "\n",
        "# nuestro boton para añadir\n",
        "boton_agregar = Button(description=\"Añadir Categoría\", button_style=\"success\")\n",
        "boton_agregar.on_click(agregar_categoria)\n",
        "\n",
        "# mostramos los widgets obviamente sino de nada valdria todo lo que hemos hecho\n",
        "display(HBox([text_input, slider_nuevo_categoria, boton_agregar]))\n",
        "display(output)\n",
        "\n",
        "# por ultimo hacemos el llamdo a nuestro grafico inicial\n",
        "actualizar_grafico()\n"
      ],
      "metadata": {
        "id": "j6DR96HwnPlh",
        "outputId": "f437a115-787c-4f05-f1ec-4b38c2792186",
        "colab": {
          "base_uri": "https://localhost:8080/",
          "height": 594,
          "referenced_widgets": [
            "638eb60ef0c7410e81dcb3542d6a38d7",
            "1e3207177ff7480f85d7825f6231ce89",
            "87115d1e5bf34d9ab905bf2b3d743ab6",
            "0e519874f4024cfe8dc40e893173bbf3",
            "8e822af967c34201a014b750c7807b8d",
            "5f6e768b81784538a69a7210fac5d10f",
            "3f0e1229eeb647019b5b3f02613a7058",
            "47145317c6734a8581401b3f81702a4c",
            "5f241569d4fd49c3886efb5bf7efc2c2",
            "5356957dbfee454b8604fdf8cc77614d",
            "96583dfadf18419aacf8ea488d515c68",
            "f0a2ceca4b8f48b89a9b035a7698121f",
            "20ba0ca43c1c4345bc21aec05805771a"
          ]
        }
      },
      "execution_count": 17,
      "outputs": [
        {
          "output_type": "display_data",
          "data": {
            "text/plain": [
              "HBox(children=(Text(value='', description='Categoría:', placeholder='Nueva Categoría'), IntSlider(value=100, d…"
            ],
            "application/vnd.jupyter.widget-view+json": {
              "version_major": 2,
              "version_minor": 0,
              "model_id": "638eb60ef0c7410e81dcb3542d6a38d7"
            }
          },
          "metadata": {}
        },
        {
          "output_type": "display_data",
          "data": {
            "text/plain": [
              "Output()"
            ],
            "application/vnd.jupyter.widget-view+json": {
              "version_major": 2,
              "version_minor": 0,
              "model_id": "f0a2ceca4b8f48b89a9b035a7698121f"
            }
          },
          "metadata": {}
        },
        {
          "output_type": "stream",
          "name": "stdout",
          "text": [
            "Categoría 'Electrohogar' añadida a la base de datos.\n",
            "Categoría 'Juguetes' añadida a la base de datos.\n",
            "Categoría 'ropa' añadida a la base de datos.\n",
            "Categoría 'Comida' añadida a la base de datos.\n",
            "Categoría 'deporte' añadida a la base de datos.\n"
          ]
        }
      ]
    },
    {
      "cell_type": "code",
      "source": [
        "import pandas as pd\n",
        "\n",
        "# Consultamos los datos y lo mostramos en un DataFrame\n",
        "cursor.execute('SELECT * FROM categorias')\n",
        "registros = cursor.fetchall()\n",
        "\n",
        "df = pd.DataFrame(registros, columns=[\"ID\", \"Nombre\", \"Valor\"])\n",
        "print(df)\n"
      ],
      "metadata": {
        "id": "XJfrFITCsQP2",
        "outputId": "c5e45e76-f318-4127-b68c-1fa02d7f84cc",
        "colab": {
          "base_uri": "https://localhost:8080/"
        }
      },
      "execution_count": 20,
      "outputs": [
        {
          "output_type": "stream",
          "name": "stdout",
          "text": [
            "   ID        Nombre  Valor\n",
            "0   1  Electrohogar    100\n",
            "1   2      Juguetes    212\n",
            "2   3          ropa     93\n",
            "3   4        Comida    251\n",
            "4   5       deporte    110\n"
          ]
        }
      ]
    },
    {
      "cell_type": "code",
      "source": [
        "from pyspark.sql import SparkSession\n",
        "\n",
        "# Crear la sesión de Spark\n",
        "spark = SparkSession.builder \\\n",
        "    .appName(\"GestorCategorias\") \\\n",
        "    .getOrCreate()\n"
      ],
      "metadata": {
        "id": "-_wklukWuOS7"
      },
      "execution_count": 22,
      "outputs": []
    },
    {
      "cell_type": "code",
      "source": [
        "import pandas as pd\n",
        "\n",
        "# Leer datos desde SQLite\n",
        "conn = sqlite3.connect('categorias.db')\n",
        "categorias_df_sqlite = pd.read_sql_query(\"SELECT * FROM categorias\", conn)\n",
        "\n",
        "# Convertir el DataFrame de Pandas a un DataFrame de Spark\n",
        "categorias_df = spark.createDataFrame(categorias_df_sqlite)\n",
        "categorias_df.show()\n"
      ],
      "metadata": {
        "id": "H2AWkxGnuPq1",
        "outputId": "4871b188-0dd8-48b9-bf4b-6a3f97f71827",
        "colab": {
          "base_uri": "https://localhost:8080/"
        }
      },
      "execution_count": 23,
      "outputs": [
        {
          "output_type": "stream",
          "name": "stdout",
          "text": [
            "+---+------------+-----+\n",
            "| id|      nombre|valor|\n",
            "+---+------------+-----+\n",
            "|  1|Electrohogar|  100|\n",
            "|  2|    Juguetes|  212|\n",
            "|  3|        ropa|   93|\n",
            "|  4|      Comida|  251|\n",
            "|  5|     deporte|  110|\n",
            "+---+------------+-----+\n",
            "\n"
          ]
        }
      ]
    },
    {
      "cell_type": "code",
      "source": [
        "def agregar_categoria(nombre, valor):\n",
        "    nueva_categoria = spark.createDataFrame([{\"nombre\": nombre, \"valor\": valor}])\n",
        "    global categorias_df\n",
        "    categorias_df = categorias_df.union(nueva_categoria)\n",
        "    categorias_df.show()\n"
      ],
      "metadata": {
        "id": "cN2A9XM_uZT4"
      },
      "execution_count": 24,
      "outputs": []
    },
    {
      "cell_type": "code",
      "source": [
        "totales = categorias_df.groupBy(\"nombre\").sum(\"valor\")\n",
        "totales.show()\n"
      ],
      "metadata": {
        "id": "qazc0x7LucEi",
        "outputId": "d97f477e-6aba-42e9-9746-4667a7da474f",
        "colab": {
          "base_uri": "https://localhost:8080/"
        }
      },
      "execution_count": 25,
      "outputs": [
        {
          "output_type": "stream",
          "name": "stdout",
          "text": [
            "+------------+----------+\n",
            "|      nombre|sum(valor)|\n",
            "+------------+----------+\n",
            "|Electrohogar|       100|\n",
            "|    Juguetes|       212|\n",
            "|     deporte|       110|\n",
            "|      Comida|       251|\n",
            "|        ropa|        93|\n",
            "+------------+----------+\n",
            "\n"
          ]
        }
      ]
    },
    {
      "cell_type": "code",
      "source": [
        "ordenadas = categorias_df.orderBy(categorias_df.valor.desc())\n",
        "ordenadas.show()\n"
      ],
      "metadata": {
        "id": "fz3GcFjSuilM",
        "outputId": "fd000c8c-6860-47ce-ccdf-3492af643b0a",
        "colab": {
          "base_uri": "https://localhost:8080/"
        }
      },
      "execution_count": 26,
      "outputs": [
        {
          "output_type": "stream",
          "name": "stdout",
          "text": [
            "+---+------------+-----+\n",
            "| id|      nombre|valor|\n",
            "+---+------------+-----+\n",
            "|  4|      Comida|  251|\n",
            "|  2|    Juguetes|  212|\n",
            "|  5|     deporte|  110|\n",
            "|  1|Electrohogar|  100|\n",
            "|  3|        ropa|   93|\n",
            "+---+------------+-----+\n",
            "\n"
          ]
        }
      ]
    },
    {
      "cell_type": "code",
      "source": [
        "from ipywidgets import Text\n",
        "text_input = Text(value='1', description='Multiplicador:')\n",
        "\n",
        "def actualizar_totales(valor):\n",
        "    try:\n",
        "        multiplicador = int(valor)\n",
        "        totales_actualizados = totales_df.withColumn(\"valor_actualizado\", totales_df[\"valor\"] * multiplicador)\n",
        "        totales_actualizados.show()\n",
        "    except ValueError:\n",
        "        print(\"Por favor, ingresa un número válido.\")\n",
        "\n",
        "interact(actualizar_totales, valor=text_input)\n"
      ],
      "metadata": {
        "id": "fhJPsFcD0ehw",
        "outputId": "c7a4879e-cfd3-4510-8cb0-d172a12e88e8",
        "colab": {
          "base_uri": "https://localhost:8080/",
          "height": 275,
          "referenced_widgets": [
            "e0e76d63496342ffbee75bde8ccfbaac",
            "4252f464b1094c2eb55ade250c5a0f8d",
            "c466007c525f44b5bd193b5111970524",
            "06cf0e05fafb43fbb012ef702a5aecd6",
            "fa77d98e3cab4cb092db8e490473d891",
            "48d19a3f0088433a8f6d144206faae72",
            "ee56ecc77c044ba9974be78e7aad165a"
          ]
        }
      },
      "execution_count": 33,
      "outputs": [
        {
          "output_type": "display_data",
          "data": {
            "text/plain": [
              "interactive(children=(Text(value='1', description='Multiplicador:'), Output()), _dom_classes=('widget-interact…"
            ],
            "application/vnd.jupyter.widget-view+json": {
              "version_major": 2,
              "version_minor": 0,
              "model_id": "e0e76d63496342ffbee75bde8ccfbaac"
            }
          },
          "metadata": {}
        },
        {
          "output_type": "execute_result",
          "data": {
            "text/plain": [
              "<function __main__.actualizar_totales(valor)>"
            ],
            "text/html": [
              "<div style=\"max-width:800px; border: 1px solid var(--colab-border-color);\"><style>\n",
              "      pre.function-repr-contents {\n",
              "        overflow-x: auto;\n",
              "        padding: 8px 12px;\n",
              "        max-height: 500px;\n",
              "      }\n",
              "\n",
              "      pre.function-repr-contents.function-repr-contents-collapsed {\n",
              "        cursor: pointer;\n",
              "        max-height: 100px;\n",
              "      }\n",
              "    </style>\n",
              "    <pre style=\"white-space: initial; background:\n",
              "         var(--colab-secondary-surface-color); padding: 8px 12px;\n",
              "         border-bottom: 1px solid var(--colab-border-color);\"><b>actualizar_totales</b><br/>def actualizar_totales(valor)</pre><pre class=\"function-repr-contents function-repr-contents-collapsed\" style=\"\"><a class=\"filepath\" style=\"display:none\" href=\"#\">/content/&lt;ipython-input-33-023c543d925d&gt;</a>&lt;no docstring&gt;</pre></div>"
            ]
          },
          "metadata": {},
          "execution_count": 33
        }
      ]
    }
  ]
}